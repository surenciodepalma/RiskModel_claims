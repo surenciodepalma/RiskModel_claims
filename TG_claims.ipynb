{
 "cells": [
  {
   "cell_type": "code",
   "execution_count": 2,
   "metadata": {
    "collapsed": false
   },
   "outputs": [],
   "source": [
    "import pandas as pd\n",
    "import numpy as np\n",
    "import seaborn as sns\n",
    "import matplotlib\n",
    "import seaborn as sb\n",
    "import matplotlib.pyplot as plt\n",
    "\n",
    "import sklearn\n",
    "\n",
    "%config InlineBackend.figure_format = 'png' #set 'png' here when working on notebook\n",
    "%matplotlib inline"
   ]
  },
  {
   "cell_type": "code",
   "execution_count": 3,
   "metadata": {
    "collapsed": false
   },
   "outputs": [
    {
     "data": {
      "text/plain": [
       "Index([u'ClaimNo', u'Claimant', u'Street1', u'Street2', u'CLAIMED_AMOUNT',\n",
       "       u'Claim_Class', u'Year', u'BORO.adj', u'Claim_Amt.1M', u'ClaimDate',\n",
       "       u'Boro', u'DeptDesc', u'CT_Des', u'SJ_DA', u'SJ_AMOUNT', u'RIS',\n",
       "       u'RIS.1', u'RISK', u'RISK.1', u'RIS.2', u'RISK.2', u'RISK.3', u'RISK.4',\n",
       "       u'RIS.3', u'RIS.4', u'RI', u'RIS.5', u'Boro.adj', u'Dept.adj',\n",
       "       u'Agency.adj'],\n",
       "      dtype='object')"
      ]
     },
     "execution_count": 3,
     "metadata": {},
     "output_type": "execute_result"
    }
   ],
   "source": [
    "# 2/13/17, update, using a dataframe cleaned in R. Code was first started using \n",
    "# Construction Related Claims - CY 2006 to CY 2015 (with Claimed Amount).xls spreadsheet. Started 12/2016\n",
    "df = pd.read_csv('full_claims.csv', header=0, parse_dates = [9], infer_datetime_format=True)\n",
    "df.columns"
   ]
  },
  {
   "cell_type": "code",
   "execution_count": 4,
   "metadata": {
    "collapsed": false
   },
   "outputs": [],
   "source": [
    "# method to convert entire dataframe to numeric\n",
    "#df= df.apply(lambda x:pd.to_numeric(x, errors='ignore'))"
   ]
  },
  {
   "cell_type": "code",
   "execution_count": 5,
   "metadata": {
    "collapsed": false
   },
   "outputs": [
    {
     "data": {
      "text/plain": [
       "ClaimNo             0\n",
       "Claimant            0\n",
       "Street1           380\n",
       "Street2           769\n",
       "CLAIMED_AMOUNT    361\n",
       "Claim_Class       361\n",
       "Year              361\n",
       "BORO.adj          373\n",
       "Claim_Amt.1M      361\n",
       "ClaimDate           0\n",
       "Boro               19\n",
       "DeptDesc          274\n",
       "CT_Des              0\n",
       "SJ_DA             910\n",
       "SJ_AMOUNT         910\n",
       "RIS                 0\n",
       "RIS.1              36\n",
       "RISK               57\n",
       "RISK.1            379\n",
       "RIS.2             775\n",
       "RISK.2            865\n",
       "RISK.3            892\n",
       "RISK.4            899\n",
       "RIS.3             902\n",
       "RIS.4             908\n",
       "RI                916\n",
       "RIS.5             920\n",
       "Boro.adj           19\n",
       "Dept.adj          274\n",
       "Agency.adj          0\n",
       "dtype: int64"
      ]
     },
     "execution_count": 5,
     "metadata": {},
     "output_type": "execute_result"
    }
   ],
   "source": [
    "# number of nan by column\n",
    "df.isnull().sum()"
   ]
  },
  {
   "cell_type": "code",
   "execution_count": 6,
   "metadata": {
    "collapsed": false
   },
   "outputs": [],
   "source": [
    "# fill missing, null, values with NA\n",
    "#df.fillna(df.mean(), inplace=True)"
   ]
  },
  {
   "cell_type": "code",
   "execution_count": 7,
   "metadata": {
    "collapsed": false
   },
   "outputs": [],
   "source": [
    "# query rows where column F_Claimant is nan\n",
    "#df.query(\"F_Claimant != F_Claimant\")"
   ]
  },
  {
   "cell_type": "code",
   "execution_count": 8,
   "metadata": {
    "collapsed": false
   },
   "outputs": [],
   "source": [
    "# query rows where column F_Claimant is nan\n",
    "#df.query(\"CLM_NO != CLM_NO\")"
   ]
  },
  {
   "cell_type": "code",
   "execution_count": 9,
   "metadata": {
    "collapsed": false
   },
   "outputs": [],
   "source": [
    "# query rows where column BORO_ is nan\n",
    "#df.query(\"BORO_ != BORO_\")"
   ]
  },
  {
   "cell_type": "code",
   "execution_count": 10,
   "metadata": {
    "collapsed": false
   },
   "outputs": [],
   "source": [
    "# remove rows that do no have a Claimant\n",
    "#df = df[pd.notnull(df['F_Claimant'])]\n",
    "# remove rows that do not have Claim Number as these are just Yearly Total\n",
    "#df = df[pd.notnull(df['CLM_NO'])]"
   ]
  },
  {
   "cell_type": "code",
   "execution_count": 11,
   "metadata": {
    "collapsed": false
   },
   "outputs": [],
   "source": [
    "#df = df.loc[:,'CLM_NO':'SJ_AMOU'] # get columns and assign to df\n",
    "#df = df.reset_index(drop=True) # reset index \n",
    "#df = df.dropna(thresh=4) "
   ]
  },
  {
   "cell_type": "code",
   "execution_count": 12,
   "metadata": {
    "collapsed": false
   },
   "outputs": [],
   "source": [
    "# convert CLM_OCC to date datatype\n",
    "#df['CLM_OCC'] = pd.to_datetime(df['CLM_OCC'])\n"
   ]
  },
  {
   "cell_type": "code",
   "execution_count": 13,
   "metadata": {
    "collapsed": true
   },
   "outputs": [],
   "source": [
    "df['Year'] = pd.DatetimeIndex(df['ClaimDate']).year\n",
    "df['Month'] = pd.DatetimeIndex(df['ClaimDate']).month"
   ]
  },
  {
   "cell_type": "code",
   "execution_count": 14,
   "metadata": {
    "collapsed": false
   },
   "outputs": [],
   "source": [
    "# create test and train dataframes\n",
    "#df_train = df[pd.notnull(df['CLAIMED_AMOUNT'])]\n",
    "#df_train = df_train.reset_index(drop=True) # reset index \n",
    "#df_test = df[np.isnan(df['CLAIMED_AMOUNT'])]\n",
    "#df_test = df_test.reset_index(drop=True) # reset index \n",
    "#df_test.head()"
   ]
  },
  {
   "cell_type": "code",
   "execution_count": 15,
   "metadata": {
    "collapsed": false
   },
   "outputs": [
    {
     "data": {
      "text/plain": [
       "CLAIMED_AMOUNT    1.000000\n",
       "Claim_Amt.1M      1.000000\n",
       "Year              0.082530\n",
       "Month            -0.010626\n",
       "Name: CLAIMED_AMOUNT, dtype: float64"
      ]
     },
     "execution_count": 15,
     "metadata": {},
     "output_type": "execute_result"
    }
   ],
   "source": [
    "### Correlation in Data\n",
    "corr = df.corr()['CLAIMED_AMOUNT']\n",
    "corr[np.argsort(corr, axis=0)[::-1]]"
   ]
  },
  {
   "cell_type": "code",
   "execution_count": 16,
   "metadata": {
    "collapsed": false
   },
   "outputs": [],
   "source": [
    "# df.groupby('BORO_').sum()\n",
    "\n",
    "def classify(num):\n",
    "    if num >= 10000000:\n",
    "        return int(3)\n",
    "    if num >= 6.000000e+06 and num < 1.000000e+07:\n",
    "        return int(2)\n",
    "    else:\n",
    "        return int(1)"
   ]
  },
  {
   "cell_type": "code",
   "execution_count": 17,
   "metadata": {
    "collapsed": false
   },
   "outputs": [],
   "source": [
    "# use classify function on claim column\n",
    "#df['Claim_Class'] = df['CLAIMED_AMOUNT'].apply(classify)"
   ]
  },
  {
   "cell_type": "code",
   "execution_count": 18,
   "metadata": {
    "collapsed": false
   },
   "outputs": [
    {
     "data": {
      "text/html": [
       "<div>\n",
       "<table border=\"1\" class=\"dataframe\">\n",
       "  <thead>\n",
       "    <tr style=\"text-align: right;\">\n",
       "      <th></th>\n",
       "      <th>CLAIMED_AMOUNT</th>\n",
       "      <th>Year</th>\n",
       "      <th>Claim_Amt.1M</th>\n",
       "      <th>Month</th>\n",
       "    </tr>\n",
       "    <tr>\n",
       "      <th>Claim_Class</th>\n",
       "      <th></th>\n",
       "      <th></th>\n",
       "      <th></th>\n",
       "      <th></th>\n",
       "    </tr>\n",
       "  </thead>\n",
       "  <tbody>\n",
       "    <tr>\n",
       "      <th>high</th>\n",
       "      <td>5.250798e+07</td>\n",
       "      <td>2011.121673</td>\n",
       "      <td>52.507985</td>\n",
       "      <td>6.699620</td>\n",
       "    </tr>\n",
       "    <tr>\n",
       "      <th>low</th>\n",
       "      <td>2.633953e+06</td>\n",
       "      <td>2010.703971</td>\n",
       "      <td>2.633953</td>\n",
       "      <td>6.559567</td>\n",
       "    </tr>\n",
       "    <tr>\n",
       "      <th>medium</th>\n",
       "      <td>6.675000e+06</td>\n",
       "      <td>2011.300000</td>\n",
       "      <td>6.675000</td>\n",
       "      <td>6.400000</td>\n",
       "    </tr>\n",
       "  </tbody>\n",
       "</table>\n",
       "</div>"
      ],
      "text/plain": [
       "             CLAIMED_AMOUNT         Year  Claim_Amt.1M     Month\n",
       "Claim_Class                                                     \n",
       "high           5.250798e+07  2011.121673     52.507985  6.699620\n",
       "low            2.633953e+06  2010.703971      2.633953  6.559567\n",
       "medium         6.675000e+06  2011.300000      6.675000  6.400000"
      ]
     },
     "execution_count": 18,
     "metadata": {},
     "output_type": "execute_result"
    }
   ],
   "source": [
    "df.groupby('Claim_Class').mean()"
   ]
  },
  {
   "cell_type": "code",
   "execution_count": 19,
   "metadata": {
    "collapsed": false
   },
   "outputs": [],
   "source": [
    "# show claim amount per $100k\n",
    "df['ClaimAmt_100k'] = df['CLAIMED_AMOUNT']/100000"
   ]
  },
  {
   "cell_type": "code",
   "execution_count": 20,
   "metadata": {
    "collapsed": false
   },
   "outputs": [
    {
     "data": {
      "text/plain": [
       "<seaborn.axisgrid.FacetGrid at 0x117620f10>"
      ]
     },
     "execution_count": 20,
     "metadata": {},
     "output_type": "execute_result"
    },
    {
     "data": {
      "image/png": "[encoded data removed]",
      "text/plain": [
       "<matplotlib.figure.Figure at 0x117620f90>"
      ]
     },
     "metadata": {},
     "output_type": "display_data"
    }
   ],
   "source": [
    "sns.factorplot(x='Year', y = 'CLAIMED_AMOUNT', data=df, hue='BORO.adj', palette='coolwarm', kind='bar')"
   ]
  },
  {
   "cell_type": "code",
   "execution_count": 21,
   "metadata": {
    "collapsed": true
   },
   "outputs": [],
   "source": [
    "# why wont this function change the dataframe\n",
    "#def outlier(num):\n",
    "#    if num in df['CLAIMED_AMOUNT']:\n",
    "#        if num > 750:\n",
    "#            num = df['CLAIMED_AMOUNT'].mean()\n",
    "#        else:\n",
    "#            num = num"
   ]
  },
  {
   "cell_type": "code",
   "execution_count": 22,
   "metadata": {
    "collapsed": false
   },
   "outputs": [],
   "source": [
    "# remove outlier of Claimed Amount over $900k and replace with mean\n",
    "def outlier(num):\n",
    "    if num > 900:\n",
    "        return df['ClaimAmt_100k'].mean()\n",
    "    else:\n",
    "        return num"
   ]
  },
  {
   "cell_type": "code",
   "execution_count": 23,
   "metadata": {
    "collapsed": true
   },
   "outputs": [],
   "source": [
    "# make a \n",
    "df['Claim_Amt.adj'] = df['ClaimAmt_100k'].apply(outlier)"
   ]
  },
  {
   "cell_type": "code",
   "execution_count": 24,
   "metadata": {
    "collapsed": false
   },
   "outputs": [
    {
     "data": {
      "text/plain": [
       "count    560.000000\n",
       "mean      83.059085\n",
       "std       78.531042\n",
       "min        0.000000\n",
       "25%       20.000000\n",
       "50%       60.000000\n",
       "75%      100.000000\n",
       "max      550.000000\n",
       "Name: Claim_Amt.adj, dtype: float64"
      ]
     },
     "execution_count": 24,
     "metadata": {},
     "output_type": "execute_result"
    }
   ],
   "source": [
    "df['Claim_Amt.adj'].describe()"
   ]
  },
  {
   "cell_type": "code",
   "execution_count": 25,
   "metadata": {
    "collapsed": true
   },
   "outputs": [],
   "source": [
    "# create histogram of adjusted claim data and log of adjusted claim amount\n",
    "matplotlib.rcParams['figure.figsize'] = (6.0, 3.0)\n",
    "claims = pd.DataFrame({'Claim': df['Claim_Amt.adj'], 'log(Claim+1)': np.log1p(df['Claim_Amt.adj'])})"
   ]
  },
  {
   "cell_type": "code",
   "execution_count": 26,
   "metadata": {
    "collapsed": false
   },
   "outputs": [
    {
     "data": {
      "text/plain": [
       "array([[<matplotlib.axes._subplots.AxesSubplot object at 0x1176209d0>,\n",
       "        <matplotlib.axes._subplots.AxesSubplot object at 0x11a43aa50>]], dtype=object)"
      ]
     },
     "execution_count": 26,
     "metadata": {},
     "output_type": "execute_result"
    },
    {
     "data": {
      "image/png": "[encoded data removed]",
      "text/plain": [
       "<matplotlib.figure.Figure at 0x119e64d10>"
      ]
     },
     "metadata": {},
     "output_type": "display_data"
    }
   ],
   "source": [
    "claims.hist()"
   ]
  },
  {
   "cell_type": "code",
   "execution_count": 27,
   "metadata": {
    "collapsed": true
   },
   "outputs": [],
   "source": [
    "# take the log of adjusted claim amount\n",
    "df['ClaimAmt_logadj'] = np.log1p(df['Claim_Amt.adj'])"
   ]
  },
  {
   "cell_type": "code",
   "execution_count": 95,
   "metadata": {
    "collapsed": false
   },
   "outputs": [
    {
     "data": {
      "image/png": "[encoded data removed]",
      "text/plain": [
       "<matplotlib.figure.Figure at 0x11cb1ad10>"
      ]
     },
     "metadata": {},
     "output_type": "display_data"
    }
   ],
   "source": [
    "# bar graph of claim amount by boroughs for each city department\n",
    "sns.factorplot(x='Boro.adj', y ='Claim_Amt.adj', data=df, hue='Agency.adj', palette='Set1', kind='bar', aspect=2.5).savefig('agency.png')"
   ]
  },
  {
   "cell_type": "code",
   "execution_count": 29,
   "metadata": {
    "collapsed": false
   },
   "outputs": [
    {
     "data": {
      "image/png": "[encoded data removed]",
      "text/plain": [
       "<matplotlib.figure.Figure at 0x11a5bae10>"
      ]
     },
     "metadata": {},
     "output_type": "display_data"
    }
   ],
   "source": [
    "# bar graph of claim amount by year for each city department\n",
    "year = sns.factorplot(x='Year', y ='Claim_Amt.adj', data=df, hue='Agency.adj', palette='Set1', kind='bar', aspect=2, size=5).savefig('year.png')"
   ]
  },
  {
   "cell_type": "code",
   "execution_count": 30,
   "metadata": {
    "collapsed": false
   },
   "outputs": [
    {
     "data": {
      "text/plain": [
       "Index([u'ClaimNo', u'Claimant', u'Street1', u'Street2', u'CLAIMED_AMOUNT',\n",
       "       u'Claim_Class', u'Year', u'BORO.adj', u'Claim_Amt.1M', u'ClaimDate',\n",
       "       u'Boro', u'DeptDesc', u'CT_Des', u'SJ_DA', u'SJ_AMOUNT', u'RIS',\n",
       "       u'RIS.1', u'RISK', u'RISK.1', u'RIS.2', u'RISK.2', u'RISK.3', u'RISK.4',\n",
       "       u'RIS.3', u'RIS.4', u'RI', u'RIS.5', u'Boro.adj', u'Dept.adj',\n",
       "       u'Agency.adj', u'Month', u'ClaimAmt_100k', u'Claim_Amt.adj',\n",
       "       u'ClaimAmt_logadj'],\n",
       "      dtype='object')"
      ]
     },
     "execution_count": 30,
     "metadata": {},
     "output_type": "execute_result"
    }
   ],
   "source": [
    "df.columns"
   ]
  },
  {
   "cell_type": "code",
   "execution_count": 31,
   "metadata": {
    "collapsed": true
   },
   "outputs": [],
   "source": [
    "# check number of columns with missing values\n",
    "def show_missing():\n",
    "    missing = df.columns[df.isnull().any()].tolist()\n",
    "    return missing"
   ]
  },
  {
   "cell_type": "code",
   "execution_count": 32,
   "metadata": {
    "collapsed": false
   },
   "outputs": [
    {
     "data": {
      "text/plain": [
       "Street1            380\n",
       "Street2            769\n",
       "CLAIMED_AMOUNT     361\n",
       "Claim_Class        361\n",
       "BORO.adj           373\n",
       "Claim_Amt.1M       361\n",
       "Boro                19\n",
       "DeptDesc           274\n",
       "SJ_DA              910\n",
       "SJ_AMOUNT          910\n",
       "RIS.1               36\n",
       "RISK                57\n",
       "RISK.1             379\n",
       "RIS.2              775\n",
       "RISK.2             865\n",
       "RISK.3             892\n",
       "RISK.4             899\n",
       "RIS.3              902\n",
       "RIS.4              908\n",
       "RI                 916\n",
       "RIS.5              920\n",
       "Boro.adj            19\n",
       "Dept.adj           274\n",
       "ClaimAmt_100k      361\n",
       "Claim_Amt.adj      361\n",
       "ClaimAmt_logadj    361\n",
       "dtype: int64"
      ]
     },
     "execution_count": 32,
     "metadata": {},
     "output_type": "execute_result"
    }
   ],
   "source": [
    "df[show_missing()].isnull().sum()"
   ]
  },
  {
   "cell_type": "code",
   "execution_count": 33,
   "metadata": {
    "collapsed": false
   },
   "outputs": [
    {
     "data": {
      "text/html": [
       "<div>\n",
       "<table border=\"1\" class=\"dataframe\">\n",
       "  <thead>\n",
       "    <tr style=\"text-align: right;\">\n",
       "      <th></th>\n",
       "      <th>Boro.adj</th>\n",
       "      <th>Dept.adj</th>\n",
       "      <th>Claim_Amt.adj</th>\n",
       "    </tr>\n",
       "  </thead>\n",
       "  <tbody>\n",
       "    <tr>\n",
       "      <th>74</th>\n",
       "      <td>NaN</td>\n",
       "      <td>NaN</td>\n",
       "      <td>200.0</td>\n",
       "    </tr>\n",
       "    <tr>\n",
       "      <th>111</th>\n",
       "      <td>NaN</td>\n",
       "      <td>NaN</td>\n",
       "      <td>10.0</td>\n",
       "    </tr>\n",
       "    <tr>\n",
       "      <th>142</th>\n",
       "      <td>NaN</td>\n",
       "      <td>DEPT OF ENVIRONMENTAL PROTECTION</td>\n",
       "      <td>200.0</td>\n",
       "    </tr>\n",
       "    <tr>\n",
       "      <th>176</th>\n",
       "      <td>NaN</td>\n",
       "      <td>DEPT OF EDUCATION</td>\n",
       "      <td>100.0</td>\n",
       "    </tr>\n",
       "    <tr>\n",
       "      <th>185</th>\n",
       "      <td>NaN</td>\n",
       "      <td>HOUSING PRESERVATION AND DEVELOPMENT</td>\n",
       "      <td>100.0</td>\n",
       "    </tr>\n",
       "    <tr>\n",
       "      <th>192</th>\n",
       "      <td>NaN</td>\n",
       "      <td>NYC TRANSIT AUTHORITY</td>\n",
       "      <td>150.0</td>\n",
       "    </tr>\n",
       "    <tr>\n",
       "      <th>372</th>\n",
       "      <td>NaN</td>\n",
       "      <td>DEPT OF EDUCATION</td>\n",
       "      <td>100.0</td>\n",
       "    </tr>\n",
       "    <tr>\n",
       "      <th>380</th>\n",
       "      <td>NaN</td>\n",
       "      <td>DEPT OF EDUCATION</td>\n",
       "      <td>20.0</td>\n",
       "    </tr>\n",
       "    <tr>\n",
       "      <th>398</th>\n",
       "      <td>NaN</td>\n",
       "      <td>DEPT OF ENVIRONMENTAL PROTECTION</td>\n",
       "      <td>350.0</td>\n",
       "    </tr>\n",
       "    <tr>\n",
       "      <th>477</th>\n",
       "      <td>NaN</td>\n",
       "      <td>NYC TRANSIT AUTHORITY</td>\n",
       "      <td>10.0</td>\n",
       "    </tr>\n",
       "    <tr>\n",
       "      <th>536</th>\n",
       "      <td>NaN</td>\n",
       "      <td>NYC TRANSIT AUTHORITY</td>\n",
       "      <td>200.0</td>\n",
       "    </tr>\n",
       "    <tr>\n",
       "      <th>558</th>\n",
       "      <td>NaN</td>\n",
       "      <td>NYC TRANSIT AUTHORITY</td>\n",
       "      <td>100.0</td>\n",
       "    </tr>\n",
       "    <tr>\n",
       "      <th>633</th>\n",
       "      <td>NaN</td>\n",
       "      <td>NaN</td>\n",
       "      <td>NaN</td>\n",
       "    </tr>\n",
       "    <tr>\n",
       "      <th>641</th>\n",
       "      <td>NaN</td>\n",
       "      <td>DEPT OF DESIGN AND CONSTRUCTION</td>\n",
       "      <td>NaN</td>\n",
       "    </tr>\n",
       "    <tr>\n",
       "      <th>762</th>\n",
       "      <td>NaN</td>\n",
       "      <td>DEPT OF ENVIRONMENTAL PROTECTION</td>\n",
       "      <td>NaN</td>\n",
       "    </tr>\n",
       "    <tr>\n",
       "      <th>802</th>\n",
       "      <td>NaN</td>\n",
       "      <td>NaN</td>\n",
       "      <td>NaN</td>\n",
       "    </tr>\n",
       "    <tr>\n",
       "      <th>812</th>\n",
       "      <td>NaN</td>\n",
       "      <td>NaN</td>\n",
       "      <td>NaN</td>\n",
       "    </tr>\n",
       "    <tr>\n",
       "      <th>840</th>\n",
       "      <td>NaN</td>\n",
       "      <td>NaN</td>\n",
       "      <td>NaN</td>\n",
       "    </tr>\n",
       "    <tr>\n",
       "      <th>845</th>\n",
       "      <td>NaN</td>\n",
       "      <td>NaN</td>\n",
       "      <td>NaN</td>\n",
       "    </tr>\n",
       "  </tbody>\n",
       "</table>\n",
       "</div>"
      ],
      "text/plain": [
       "    Boro.adj                              Dept.adj  Claim_Amt.adj\n",
       "74       NaN                                   NaN          200.0\n",
       "111      NaN                                   NaN           10.0\n",
       "142      NaN      DEPT OF ENVIRONMENTAL PROTECTION          200.0\n",
       "176      NaN                     DEPT OF EDUCATION          100.0\n",
       "185      NaN  HOUSING PRESERVATION AND DEVELOPMENT          100.0\n",
       "192      NaN                 NYC TRANSIT AUTHORITY          150.0\n",
       "372      NaN                     DEPT OF EDUCATION          100.0\n",
       "380      NaN                     DEPT OF EDUCATION           20.0\n",
       "398      NaN      DEPT OF ENVIRONMENTAL PROTECTION          350.0\n",
       "477      NaN                 NYC TRANSIT AUTHORITY           10.0\n",
       "536      NaN                 NYC TRANSIT AUTHORITY          200.0\n",
       "558      NaN                 NYC TRANSIT AUTHORITY          100.0\n",
       "633      NaN                                   NaN            NaN\n",
       "641      NaN       DEPT OF DESIGN AND CONSTRUCTION            NaN\n",
       "762      NaN      DEPT OF ENVIRONMENTAL PROTECTION            NaN\n",
       "802      NaN                                   NaN            NaN\n",
       "812      NaN                                   NaN            NaN\n",
       "840      NaN                                   NaN            NaN\n",
       "845      NaN                                   NaN            NaN"
      ]
     },
     "execution_count": 33,
     "metadata": {},
     "output_type": "execute_result"
    }
   ],
   "source": [
    "# see null values for Boro.adj and how they relate to Dept.adj and Claim_Amt.adj\n",
    "df[['Boro.adj','Dept.adj','Claim_Amt.adj']][df['Boro.adj'].isnull()==True]"
   ]
  },
  {
   "cell_type": "code",
   "execution_count": 34,
   "metadata": {
    "collapsed": true
   },
   "outputs": [],
   "source": [
    "# look at missing categorical values\n",
    "def cat_explore(column):\n",
    "    return df[column].value_counts()"
   ]
  },
  {
   "cell_type": "code",
   "execution_count": 35,
   "metadata": {
    "collapsed": true
   },
   "outputs": [],
   "source": [
    "# imputing missing values\n",
    "def cat_impute(column, value):\n",
    "    df.loc[df[column].isnull(),column] = value"
   ]
  },
  {
   "cell_type": "code",
   "execution_count": 36,
   "metadata": {
    "collapsed": false
   },
   "outputs": [],
   "source": [
    "# empty fields mean no claim amount made\n",
    "#cat_impute('Claim_Amt.adj','None')"
   ]
  },
  {
   "cell_type": "code",
   "execution_count": 37,
   "metadata": {
    "collapsed": false
   },
   "outputs": [],
   "source": [
    "# assign None to missing values in Boro.adj and Dept.adj\n",
    "cat_impute('Boro.adj','Other')\n",
    "cat_impute('Dept.adj','Other')"
   ]
  },
  {
   "cell_type": "code",
   "execution_count": 38,
   "metadata": {
    "collapsed": false
   },
   "outputs": [
    {
     "data": {
      "text/plain": [
       "MANHATTAN        299\n",
       "BROOKLYN         201\n",
       "BRONX            177\n",
       "QUEENS           167\n",
       "STATEN ISLAND     48\n",
       "Other             29\n",
       "Name: Boro.adj, dtype: int64"
      ]
     },
     "execution_count": 38,
     "metadata": {},
     "output_type": "execute_result"
    }
   ],
   "source": [
    "# look at Risk categories\n",
    "cat_explore('Boro.adj')"
   ]
  },
  {
   "cell_type": "code",
   "execution_count": 39,
   "metadata": {
    "collapsed": false
   },
   "outputs": [],
   "source": [
    "cat_impute('RISK','None')"
   ]
  },
  {
   "cell_type": "code",
   "execution_count": 40,
   "metadata": {
    "collapsed": true
   },
   "outputs": [],
   "source": [
    "cat_impute('RIS', 'None')"
   ]
  },
  {
   "cell_type": "code",
   "execution_count": 41,
   "metadata": {
    "collapsed": true
   },
   "outputs": [],
   "source": [
    "cat_impute('RIS.1', 'None')"
   ]
  },
  {
   "cell_type": "code",
   "execution_count": 42,
   "metadata": {
    "collapsed": false
   },
   "outputs": [
    {
     "data": {
      "text/plain": [
       "CITY BLDG - UNSPEC                 120\n",
       "CITY BLDG - CIVIC/PUBLIC            88\n",
       "FALLING OBJECT                      46\n",
       "DEBRIS/GLASS                        36\n",
       "CITY LOT/LAND                       23\n",
       "EQUIP FAILURE/DEFECT                22\n",
       "CITY BLDG - WALKS & GROUNDS         21\n",
       "COLLAPSE/STRUCTURAL FAILURE         18\n",
       "PRIVATE BLDG - UNSPEC               18\n",
       "COLLISION/STRUCK BY                 14\n",
       "PARK                                14\n",
       "IMPROPER MAINTENANCE                13\n",
       "SLIP/FALL                           10\n",
       "FLOOR/SURFACE - WET/SLIPPERY         9\n",
       "CITY AGENCY/OFFICE                   9\n",
       "FLOOR/SURFACE - HOLE/DEPRESSION      8\n",
       "PIER                                 8\n",
       "BURNED                               7\n",
       "DEMOLITION                           4\n",
       "EXACERBATION OF INJURY               4\n",
       "CITY BLDG - RESIDENTIAL              4\n",
       "FLOOR/SURFACE - CRACKED/BROKEN       3\n",
       "EMPLOYEE                             3\n",
       "AQUARIUM                             3\n",
       "PRIVATE BLDG - WALKS & GROUNDS       3\n",
       "MUSEUM                               3\n",
       "OIL SPILL/GREASE                     2\n",
       "FLOOR/SURFACE - UNSPEC               2\n",
       "PRIVATE BLDG - COMMERCIAL            2\n",
       "CORRECTIONS - UNSPEC                 2\n",
       "UNKNOWN                              2\n",
       "INADEQUATE LIGHTING                  2\n",
       "ELECTRICAL EQUIPMENT/VOLTAGE         2\n",
       "CHEMICAL/GAS                         2\n",
       "FLOOR/SURFACE - UNEVEN               1\n",
       "CITY BLDG - COMMERCIAL               1\n",
       "DEATH                                1\n",
       "NECK                                 1\n",
       "LINCOLN CENTER                       1\n",
       "PCB'S                                1\n",
       "FAULTY WIRING                        1\n",
       "WINDOW GUARDS - DEFECTIVE            1\n",
       "EXPLOSION                            1\n",
       "SHELTER                              1\n",
       "ORTHOPEDIC DEFORMITY                 1\n",
       "PSYCHOLOGICAL TRAUMA                 1\n",
       "BOTANICAL GARDEN                     1\n",
       "ASBESTOS                             1\n",
       "OVERCOME                             1\n",
       "Name: RISK.1, dtype: int64"
      ]
     },
     "execution_count": 42,
     "metadata": {},
     "output_type": "execute_result"
    }
   ],
   "source": [
    "cat_explore('RISK.1')"
   ]
  },
  {
   "cell_type": "code",
   "execution_count": 43,
   "metadata": {
    "collapsed": true
   },
   "outputs": [],
   "source": [
    "cat_impute('RISK.1', 'None')"
   ]
  },
  {
   "cell_type": "code",
   "execution_count": 44,
   "metadata": {
    "collapsed": false
   },
   "outputs": [
    {
     "data": {
      "text/plain": [
       "ClaimNo              0\n",
       "Claimant             0\n",
       "Street1            380\n",
       "Street2            769\n",
       "CLAIMED_AMOUNT     361\n",
       "Claim_Class        361\n",
       "Year                 0\n",
       "BORO.adj           373\n",
       "Claim_Amt.1M       361\n",
       "ClaimDate            0\n",
       "Boro                19\n",
       "DeptDesc           274\n",
       "CT_Des               0\n",
       "SJ_DA              910\n",
       "SJ_AMOUNT          910\n",
       "RIS                  0\n",
       "RIS.1                0\n",
       "RISK                 0\n",
       "RISK.1               0\n",
       "RIS.2              775\n",
       "RISK.2             865\n",
       "RISK.3             892\n",
       "RISK.4             899\n",
       "RIS.3              902\n",
       "RIS.4              908\n",
       "RI                 916\n",
       "RIS.5              920\n",
       "Boro.adj             0\n",
       "Dept.adj             0\n",
       "Agency.adj           0\n",
       "Month                0\n",
       "ClaimAmt_100k      361\n",
       "Claim_Amt.adj      361\n",
       "ClaimAmt_logadj    361\n",
       "dtype: int64"
      ]
     },
     "execution_count": 44,
     "metadata": {},
     "output_type": "execute_result"
    }
   ],
   "source": [
    "# number of nan by column\n",
    "df.isnull().sum()"
   ]
  },
  {
   "cell_type": "code",
   "execution_count": 45,
   "metadata": {
    "collapsed": false
   },
   "outputs": [
    {
     "data": {
      "text/plain": [
       "60,000.00       1\n",
       "2,500,000.00    1\n",
       "1,500.00        1\n",
       "10,000.00       1\n",
       "2,500.00        1\n",
       "80,000.00       1\n",
       "150,000.00      1\n",
       "475,000.00      1\n",
       "32,000.00       1\n",
       "17,500.00       1\n",
       "1,850,000.00    1\n",
       "Name: SJ_AMOUNT, dtype: int64"
      ]
     },
     "execution_count": 45,
     "metadata": {},
     "output_type": "execute_result"
    }
   ],
   "source": [
    "cat_explore('SJ_AMOUNT')"
   ]
  },
  {
   "cell_type": "code",
   "execution_count": 46,
   "metadata": {
    "collapsed": false
   },
   "outputs": [
    {
     "data": {
      "text/plain": [
       "Other                               470\n",
       "DEPT OF EDUCATION                   155\n",
       "DEPT OF ENVIRONMENTAL PROTECTION    101\n",
       "DEPT OF TRANSPORTATION               71\n",
       "NYC TRANSIT AUTHORITY                50\n",
       "DEPT OF PARKS & RECREATION           44\n",
       "DEPT OF DESIGN AND CONSTRUCTION      30\n",
       "Name: Agency.adj, dtype: int64"
      ]
     },
     "execution_count": 46,
     "metadata": {},
     "output_type": "execute_result"
    }
   ],
   "source": [
    "cat_explore('Agency.adj')"
   ]
  },
  {
   "cell_type": "code",
   "execution_count": 47,
   "metadata": {
    "collapsed": false
   },
   "outputs": [],
   "source": [
    "# make another dataset to transform categorical features into numbers\n",
    "cat_feats = df[['RIS', 'RIS.1', 'RISK','RISK.1', 'Boro.adj', 'Agency.adj']]"
   ]
  },
  {
   "cell_type": "code",
   "execution_count": 48,
   "metadata": {
    "collapsed": false
   },
   "outputs": [],
   "source": [
    "# set ClaimNo as index and drop ClaimNo column\n",
    "#cat_feats.set_index('ClaimNo', drop=True, inplace=True)"
   ]
  },
  {
   "cell_type": "code",
   "execution_count": 49,
   "metadata": {
    "collapsed": false
   },
   "outputs": [],
   "source": [
    "# drop index label\n",
    "#cat_feats.index.name=None"
   ]
  },
  {
   "cell_type": "code",
   "execution_count": 50,
   "metadata": {
    "collapsed": false
   },
   "outputs": [],
   "source": [
    "# create dummy categorical features\n",
    "cat_feats = pd.get_dummies(cat_feats)"
   ]
  },
  {
   "cell_type": "code",
   "execution_count": 51,
   "metadata": {
    "collapsed": false
   },
   "outputs": [],
   "source": [
    "# reset index and make column of the indexed ClaimNo\n",
    "#cat_feats = cat_feats.reset_index(level='ClaimNo')"
   ]
  },
  {
   "cell_type": "code",
   "execution_count": 52,
   "metadata": {
    "collapsed": false
   },
   "outputs": [],
   "source": [
    "# rename extracte index column\n",
    "#cat_feats.rename(columns={'index':'ClaimNo'}, inplace=True)"
   ]
  },
  {
   "cell_type": "code",
   "execution_count": 53,
   "metadata": {
    "collapsed": false
   },
   "outputs": [
    {
     "data": {
      "text/plain": [
       "Index([u'RIS_CONTRACTOR', u'RIS.1_CHEMICAL/GAS',\n",
       "       u'RIS.1_CITY BLDG - CIVIC/PUBLIC', u'RIS.1_CITY BLDG - UNSPEC',\n",
       "       u'RIS.1_CITY BLDG - WALKS & GROUNDS', u'RIS.1_CITY LOT/LAND',\n",
       "       u'RIS.1_COLLAPSE/STRUCTURAL FAILURE', u'RIS.1_CORRECTIONAL FACILITY',\n",
       "       u'RIS.1_DEMOLITION', u'RIS.1_FLOOR/SURFACE - HOLE/DEPRESSION',\n",
       "       ...\n",
       "       u'Boro.adj_Other', u'Boro.adj_QUEENS', u'Boro.adj_STATEN ISLAND',\n",
       "       u'Agency.adj_DEPT OF DESIGN AND CONSTRUCTION',\n",
       "       u'Agency.adj_DEPT OF EDUCATION',\n",
       "       u'Agency.adj_DEPT OF ENVIRONMENTAL PROTECTION',\n",
       "       u'Agency.adj_DEPT OF PARKS & RECREATION',\n",
       "       u'Agency.adj_DEPT OF TRANSPORTATION',\n",
       "       u'Agency.adj_NYC TRANSIT AUTHORITY', u'Agency.adj_Other'],\n",
       "      dtype='object', length=112)"
      ]
     },
     "execution_count": 53,
     "metadata": {},
     "output_type": "execute_result"
    }
   ],
   "source": [
    "cat_feats.columns"
   ]
  },
  {
   "cell_type": "code",
   "execution_count": 54,
   "metadata": {
    "collapsed": false
   },
   "outputs": [
    {
     "data": {
      "text/plain": [
       "Index([u'ClaimNo', u'Claimant', u'Street1', u'Street2', u'CLAIMED_AMOUNT',\n",
       "       u'Claim_Class', u'Year', u'BORO.adj', u'Claim_Amt.1M', u'ClaimDate',\n",
       "       u'Boro', u'DeptDesc', u'CT_Des', u'SJ_DA', u'SJ_AMOUNT', u'RIS',\n",
       "       u'RIS.1', u'RISK', u'RISK.1', u'RIS.2', u'RISK.2', u'RISK.3', u'RISK.4',\n",
       "       u'RIS.3', u'RIS.4', u'RI', u'RIS.5', u'Boro.adj', u'Dept.adj',\n",
       "       u'Agency.adj', u'Month', u'ClaimAmt_100k', u'Claim_Amt.adj',\n",
       "       u'ClaimAmt_logadj'],\n",
       "      dtype='object')"
      ]
     },
     "execution_count": 54,
     "metadata": {},
     "output_type": "execute_result"
    }
   ],
   "source": [
    "df.columns"
   ]
  },
  {
   "cell_type": "code",
   "execution_count": 55,
   "metadata": {
    "collapsed": false
   },
   "outputs": [],
   "source": [
    "# create df of primarily numeric features which will be joined with \n",
    "# df of categorical dummy feats\n",
    "clean_df = df[['ClaimNo','Year', 'Month', 'Claim_Amt.adj']]"
   ]
  },
  {
   "cell_type": "code",
   "execution_count": 56,
   "metadata": {
    "collapsed": false
   },
   "outputs": [],
   "source": [
    "# join dfs\n",
    "dum_df = pd.concat([clean_df, cat_feats], axis=1, join_axes=[clean_df.index])"
   ]
  },
  {
   "cell_type": "code",
   "execution_count": 57,
   "metadata": {
    "collapsed": false
   },
   "outputs": [],
   "source": [
    "#dum_df.head()"
   ]
  },
  {
   "cell_type": "code",
   "execution_count": 58,
   "metadata": {
    "collapsed": false
   },
   "outputs": [],
   "source": [
    "#dum_df.columns"
   ]
  },
  {
   "cell_type": "code",
   "execution_count": 59,
   "metadata": {
    "collapsed": false
   },
   "outputs": [
    {
     "data": {
      "text/html": [
       "<div>\n",
       "<table border=\"1\" class=\"dataframe\">\n",
       "  <thead>\n",
       "    <tr style=\"text-align: right;\">\n",
       "      <th></th>\n",
       "      <th>ClaimNo</th>\n",
       "      <th>Claimant</th>\n",
       "      <th>Street1</th>\n",
       "      <th>Street2</th>\n",
       "      <th>CLAIMED_AMOUNT</th>\n",
       "      <th>Claim_Class</th>\n",
       "      <th>Year</th>\n",
       "      <th>BORO.adj</th>\n",
       "      <th>Claim_Amt.1M</th>\n",
       "      <th>ClaimDate</th>\n",
       "      <th>...</th>\n",
       "      <th>RIS.3</th>\n",
       "      <th>RIS.4</th>\n",
       "      <th>RI</th>\n",
       "      <th>RIS.5</th>\n",
       "      <th>Dept.adj</th>\n",
       "      <th>Agency.adj</th>\n",
       "      <th>Month</th>\n",
       "      <th>ClaimAmt_100k</th>\n",
       "      <th>Claim_Amt.adj</th>\n",
       "      <th>ClaimAmt_logadj</th>\n",
       "    </tr>\n",
       "    <tr>\n",
       "      <th>Boro.adj</th>\n",
       "      <th></th>\n",
       "      <th></th>\n",
       "      <th></th>\n",
       "      <th></th>\n",
       "      <th></th>\n",
       "      <th></th>\n",
       "      <th></th>\n",
       "      <th></th>\n",
       "      <th></th>\n",
       "      <th></th>\n",
       "      <th></th>\n",
       "      <th></th>\n",
       "      <th></th>\n",
       "      <th></th>\n",
       "      <th></th>\n",
       "      <th></th>\n",
       "      <th></th>\n",
       "      <th></th>\n",
       "      <th></th>\n",
       "      <th></th>\n",
       "      <th></th>\n",
       "    </tr>\n",
       "  </thead>\n",
       "  <tbody>\n",
       "    <tr>\n",
       "      <th>BRONX</th>\n",
       "      <td>2016PI000234</td>\n",
       "      <td>ZARE, AMADOR</td>\n",
       "      <td>YANKEE STADIUM</td>\n",
       "      <td>WESTCHESTER AV</td>\n",
       "      <td>5.000000e+09</td>\n",
       "      <td>medium</td>\n",
       "      <td>2015</td>\n",
       "      <td>BRONX</td>\n",
       "      <td>5000.0</td>\n",
       "      <td>2015-11-13</td>\n",
       "      <td>...</td>\n",
       "      <td>SCAPULA-L (SHOULDER BLADE)</td>\n",
       "      <td>CERVICAL</td>\n",
       "      <td>JOINT</td>\n",
       "      <td>NaN</td>\n",
       "      <td>SUP. CT. 1ST JUD. DIST. (MANHATTAN &amp; BRONX)</td>\n",
       "      <td>Other</td>\n",
       "      <td>12</td>\n",
       "      <td>50000.0</td>\n",
       "      <td>500.0</td>\n",
       "      <td>6.216606</td>\n",
       "    </tr>\n",
       "    <tr>\n",
       "      <th>BROOKLYN</th>\n",
       "      <td>2016PI002285</td>\n",
       "      <td>ZWITEK, WOJCIECH</td>\n",
       "      <td>VERRAZANO NARROWS BR</td>\n",
       "      <td>WATKINS AV</td>\n",
       "      <td>1.000000e+08</td>\n",
       "      <td>medium</td>\n",
       "      <td>2015</td>\n",
       "      <td>BROOKLYN</td>\n",
       "      <td>100.0</td>\n",
       "      <td>2015-11-18</td>\n",
       "      <td>...</td>\n",
       "      <td>FUEL OIL/FURNACE</td>\n",
       "      <td>FOOT TENDON-R</td>\n",
       "      <td>NaN</td>\n",
       "      <td>NaN</td>\n",
       "      <td>PUBLIC DEVELOPMENT CORP.</td>\n",
       "      <td>Other</td>\n",
       "      <td>12</td>\n",
       "      <td>1000.0</td>\n",
       "      <td>550.0</td>\n",
       "      <td>6.311735</td>\n",
       "    </tr>\n",
       "    <tr>\n",
       "      <th>MANHATTAN</th>\n",
       "      <td>2016PI001545</td>\n",
       "      <td>WOLOWIEC, ROBERT</td>\n",
       "      <td>WTC PATH STA</td>\n",
       "      <td>WTC</td>\n",
       "      <td>5.000000e+07</td>\n",
       "      <td>medium</td>\n",
       "      <td>2015</td>\n",
       "      <td>MANHATTAN</td>\n",
       "      <td>50.0</td>\n",
       "      <td>2015-12-17</td>\n",
       "      <td>...</td>\n",
       "      <td>WRIST-L</td>\n",
       "      <td>WRIST - R</td>\n",
       "      <td>CONCUSSION</td>\n",
       "      <td>HIP (PELVIS)</td>\n",
       "      <td>PUBLIC DEVELOPMENT CORP.</td>\n",
       "      <td>Other</td>\n",
       "      <td>12</td>\n",
       "      <td>500.0</td>\n",
       "      <td>500.0</td>\n",
       "      <td>6.216606</td>\n",
       "    </tr>\n",
       "    <tr>\n",
       "      <th>Other</th>\n",
       "      <td>2016PI001844</td>\n",
       "      <td>ZAKOTA, RAFAEL</td>\n",
       "      <td>WALKER RD</td>\n",
       "      <td>PS 340</td>\n",
       "      <td>3.500000e+07</td>\n",
       "      <td>low</td>\n",
       "      <td>2015</td>\n",
       "      <td>Other</td>\n",
       "      <td>35.0</td>\n",
       "      <td>2015-10-12</td>\n",
       "      <td>...</td>\n",
       "      <td>KNEE TENDON-R</td>\n",
       "      <td>NaN</td>\n",
       "      <td>NaN</td>\n",
       "      <td>NaN</td>\n",
       "      <td>Other</td>\n",
       "      <td>Other</td>\n",
       "      <td>12</td>\n",
       "      <td>350.0</td>\n",
       "      <td>350.0</td>\n",
       "      <td>5.860786</td>\n",
       "    </tr>\n",
       "    <tr>\n",
       "      <th>QUEENS</th>\n",
       "      <td>2016PI001467</td>\n",
       "      <td>ZIS, WILLIAM &amp; JACQUELYN</td>\n",
       "      <td>US TENNIS ASSOCIATION</td>\n",
       "      <td>UNION TP25000</td>\n",
       "      <td>5.000000e+09</td>\n",
       "      <td>medium</td>\n",
       "      <td>2015</td>\n",
       "      <td>QUEENS</td>\n",
       "      <td>5000.0</td>\n",
       "      <td>2015-11-11</td>\n",
       "      <td>...</td>\n",
       "      <td>SHOULDER-L</td>\n",
       "      <td>MISCARRIAGE</td>\n",
       "      <td>TIBIA-R (SHIN BONE)</td>\n",
       "      <td>NaN</td>\n",
       "      <td>POLICE DEPARTMENT</td>\n",
       "      <td>Other</td>\n",
       "      <td>12</td>\n",
       "      <td>50000.0</td>\n",
       "      <td>300.0</td>\n",
       "      <td>5.707110</td>\n",
       "    </tr>\n",
       "    <tr>\n",
       "      <th>STATEN ISLAND</th>\n",
       "      <td>2015PI030283</td>\n",
       "      <td>ZURHEIDE, STEVEN</td>\n",
       "      <td>VERRAZANO NARROWS BR</td>\n",
       "      <td>TOTTENVILLE HS</td>\n",
       "      <td>2.500000e+07</td>\n",
       "      <td>medium</td>\n",
       "      <td>2015</td>\n",
       "      <td>STATEN ISLAND</td>\n",
       "      <td>25.0</td>\n",
       "      <td>2015-08-28</td>\n",
       "      <td>...</td>\n",
       "      <td>NaN</td>\n",
       "      <td>NaN</td>\n",
       "      <td>NaN</td>\n",
       "      <td>NaN</td>\n",
       "      <td>PUBLIC DEVELOPMENT CORP.</td>\n",
       "      <td>Other</td>\n",
       "      <td>12</td>\n",
       "      <td>250.0</td>\n",
       "      <td>250.0</td>\n",
       "      <td>5.525453</td>\n",
       "    </tr>\n",
       "  </tbody>\n",
       "</table>\n",
       "<p>6 rows × 33 columns</p>\n",
       "</div>"
      ],
      "text/plain": [
       "                    ClaimNo                  Claimant                Street1  \\\n",
       "Boro.adj                                                                       \n",
       "BRONX          2016PI000234              ZARE, AMADOR         YANKEE STADIUM   \n",
       "BROOKLYN       2016PI002285          ZWITEK, WOJCIECH   VERRAZANO NARROWS BR   \n",
       "MANHATTAN      2016PI001545          WOLOWIEC, ROBERT           WTC PATH STA   \n",
       "Other          2016PI001844            ZAKOTA, RAFAEL              WALKER RD   \n",
       "QUEENS         2016PI001467  ZIS, WILLIAM & JACQUELYN  US TENNIS ASSOCIATION   \n",
       "STATEN ISLAND  2015PI030283          ZURHEIDE, STEVEN   VERRAZANO NARROWS BR   \n",
       "\n",
       "                      Street2  CLAIMED_AMOUNT Claim_Class  Year  \\\n",
       "Boro.adj                                                          \n",
       "BRONX          WESTCHESTER AV    5.000000e+09      medium  2015   \n",
       "BROOKLYN           WATKINS AV    1.000000e+08      medium  2015   \n",
       "MANHATTAN                 WTC    5.000000e+07      medium  2015   \n",
       "Other                  PS 340    3.500000e+07         low  2015   \n",
       "QUEENS          UNION TP25000    5.000000e+09      medium  2015   \n",
       "STATEN ISLAND  TOTTENVILLE HS    2.500000e+07      medium  2015   \n",
       "\n",
       "                    BORO.adj  Claim_Amt.1M  ClaimDate       ...        \\\n",
       "Boro.adj                                                    ...         \n",
       "BRONX                  BRONX        5000.0 2015-11-13       ...         \n",
       "BROOKLYN            BROOKLYN         100.0 2015-11-18       ...         \n",
       "MANHATTAN          MANHATTAN          50.0 2015-12-17       ...         \n",
       "Other                  Other          35.0 2015-10-12       ...         \n",
       "QUEENS                QUEENS        5000.0 2015-11-11       ...         \n",
       "STATEN ISLAND  STATEN ISLAND          25.0 2015-08-28       ...         \n",
       "\n",
       "                                    RIS.3          RIS.4                   RI  \\\n",
       "Boro.adj                                                                        \n",
       "BRONX          SCAPULA-L (SHOULDER BLADE)       CERVICAL                JOINT   \n",
       "BROOKLYN                 FUEL OIL/FURNACE  FOOT TENDON-R                  NaN   \n",
       "MANHATTAN                         WRIST-L      WRIST - R           CONCUSSION   \n",
       "Other                       KNEE TENDON-R            NaN                  NaN   \n",
       "QUEENS                         SHOULDER-L    MISCARRIAGE  TIBIA-R (SHIN BONE)   \n",
       "STATEN ISLAND                         NaN            NaN                  NaN   \n",
       "\n",
       "                      RIS.5                                     Dept.adj  \\\n",
       "Boro.adj                                                                   \n",
       "BRONX                   NaN  SUP. CT. 1ST JUD. DIST. (MANHATTAN & BRONX)   \n",
       "BROOKLYN                NaN                     PUBLIC DEVELOPMENT CORP.   \n",
       "MANHATTAN      HIP (PELVIS)                     PUBLIC DEVELOPMENT CORP.   \n",
       "Other                   NaN                                        Other   \n",
       "QUEENS                  NaN                            POLICE DEPARTMENT   \n",
       "STATEN ISLAND           NaN                     PUBLIC DEVELOPMENT CORP.   \n",
       "\n",
       "              Agency.adj Month ClaimAmt_100k Claim_Amt.adj ClaimAmt_logadj  \n",
       "Boro.adj                                                                    \n",
       "BRONX              Other    12       50000.0         500.0        6.216606  \n",
       "BROOKLYN           Other    12        1000.0         550.0        6.311735  \n",
       "MANHATTAN          Other    12         500.0         500.0        6.216606  \n",
       "Other              Other    12         350.0         350.0        5.860786  \n",
       "QUEENS             Other    12       50000.0         300.0        5.707110  \n",
       "STATEN ISLAND      Other    12         250.0         250.0        5.525453  \n",
       "\n",
       "[6 rows x 33 columns]"
      ]
     },
     "execution_count": 59,
     "metadata": {},
     "output_type": "execute_result"
    }
   ],
   "source": [
    "df.groupby('Boro.adj').max()"
   ]
  },
  {
   "cell_type": "code",
   "execution_count": 60,
   "metadata": {
    "collapsed": true
   },
   "outputs": [],
   "source": [
    "#df.to_csv('claim_clean.csv', header=1)"
   ]
  },
  {
   "cell_type": "code",
   "execution_count": 61,
   "metadata": {
    "collapsed": false
   },
   "outputs": [],
   "source": [
    "#df.apply(lambda x: pd.to_numeric(x, errors='ignore'))  # convert data type to numeric \n",
    "#df.dtypes  # show data types "
   ]
  },
  {
   "cell_type": "code",
   "execution_count": 62,
   "metadata": {
    "collapsed": false
   },
   "outputs": [],
   "source": [
    "### create a data dictionary ###\n",
    "### dic = df.dtypes\n",
    "### dic.to_csv('claims_dict.csv', sep=',', encoding='utf-8')"
   ]
  },
  {
   "cell_type": "code",
   "execution_count": 63,
   "metadata": {
    "collapsed": false
   },
   "outputs": [
    {
     "data": {
      "text/plain": [
       "(array([ 34.,   3.,   3.,   2.,   0.,   0.,   0.,   1.]),\n",
       " array([  0.,   5.,  10.,  15.,  20.,  25.,  30.,  35.,  40.]),\n",
       " <a list of 8 Patch objects>)"
      ]
     },
     "execution_count": 63,
     "metadata": {},
     "output_type": "execute_result"
    },
    {
     "data": {
      "image/png": "[encoded data removed]",
      "text/plain": [
       "<matplotlib.figure.Figure at 0x11ab94d90>"
      ]
     },
     "metadata": {},
     "output_type": "display_data"
    }
   ],
   "source": [
    "# distribution of claims from $0 to $10M\n",
    "plt.hist(cat_explore('Claim_Amt.adj'), bins=8,range=(0,40))"
   ]
  },
  {
   "cell_type": "code",
   "execution_count": 94,
   "metadata": {
    "collapsed": false
   },
   "outputs": [
    {
     "data": {
      "text/html": [
       "<div>\n",
       "<table border=\"1\" class=\"dataframe\">\n",
       "  <thead>\n",
       "    <tr style=\"text-align: right;\">\n",
       "      <th></th>\n",
       "      <th></th>\n",
       "      <th>ClaimNo</th>\n",
       "      <th>Claimant</th>\n",
       "      <th>Street1</th>\n",
       "      <th>Street2</th>\n",
       "      <th>CLAIMED_AMOUNT</th>\n",
       "      <th>Year</th>\n",
       "      <th>Claim_Amt.1M</th>\n",
       "      <th>ClaimDate</th>\n",
       "      <th>Boro</th>\n",
       "      <th>DeptDesc</th>\n",
       "      <th>...</th>\n",
       "      <th>RIS.4</th>\n",
       "      <th>RI</th>\n",
       "      <th>RIS.5</th>\n",
       "      <th>Boro.adj</th>\n",
       "      <th>Dept.adj</th>\n",
       "      <th>Agency.adj</th>\n",
       "      <th>Month</th>\n",
       "      <th>ClaimAmt_100k</th>\n",
       "      <th>Claim_Amt.adj</th>\n",
       "      <th>ClaimAmt_logadj</th>\n",
       "    </tr>\n",
       "    <tr>\n",
       "      <th>BORO.adj</th>\n",
       "      <th>Claim_Class</th>\n",
       "      <th></th>\n",
       "      <th></th>\n",
       "      <th></th>\n",
       "      <th></th>\n",
       "      <th></th>\n",
       "      <th></th>\n",
       "      <th></th>\n",
       "      <th></th>\n",
       "      <th></th>\n",
       "      <th></th>\n",
       "      <th></th>\n",
       "      <th></th>\n",
       "      <th></th>\n",
       "      <th></th>\n",
       "      <th></th>\n",
       "      <th></th>\n",
       "      <th></th>\n",
       "      <th></th>\n",
       "      <th></th>\n",
       "      <th></th>\n",
       "      <th></th>\n",
       "    </tr>\n",
       "  </thead>\n",
       "  <tbody>\n",
       "    <tr>\n",
       "      <th rowspan=\"3\" valign=\"top\">BRONX</th>\n",
       "      <th>high</th>\n",
       "      <td>2016PI000234</td>\n",
       "      <td>ZAINO, ROCCO &amp; MARY LYNN</td>\n",
       "      <td>WHITLOCK AV</td>\n",
       "      <td>WESTCHESTER AV</td>\n",
       "      <td>5.000000e+09</td>\n",
       "      <td>2015</td>\n",
       "      <td>5000.0</td>\n",
       "      <td>2015-11-13</td>\n",
       "      <td>BRONX</td>\n",
       "      <td>NYC TRANSIT AUTHORITY</td>\n",
       "      <td>...</td>\n",
       "      <td>BACKBONE</td>\n",
       "      <td>HIP JOINT (ACETABULUM) - L</td>\n",
       "      <td>NaN</td>\n",
       "      <td>BRONX</td>\n",
       "      <td>Other</td>\n",
       "      <td>Other</td>\n",
       "      <td>12</td>\n",
       "      <td>50000.0</td>\n",
       "      <td>500.0</td>\n",
       "      <td>6.216606</td>\n",
       "    </tr>\n",
       "    <tr>\n",
       "      <th>low</th>\n",
       "      <td>2015PI035391</td>\n",
       "      <td>WYDERKA, RALPH</td>\n",
       "      <td>YANKEE STADIUM</td>\n",
       "      <td>W 238 ST</td>\n",
       "      <td>5.500000e+06</td>\n",
       "      <td>2015</td>\n",
       "      <td>5.5</td>\n",
       "      <td>2015-09-27</td>\n",
       "      <td>BRONX</td>\n",
       "      <td>NYC TRANSIT AUTHORITY</td>\n",
       "      <td>...</td>\n",
       "      <td>NaN</td>\n",
       "      <td>NaN</td>\n",
       "      <td>NaN</td>\n",
       "      <td>BRONX</td>\n",
       "      <td>Other</td>\n",
       "      <td>Other</td>\n",
       "      <td>12</td>\n",
       "      <td>55.0</td>\n",
       "      <td>55.0</td>\n",
       "      <td>4.025352</td>\n",
       "    </tr>\n",
       "    <tr>\n",
       "      <th>medium</th>\n",
       "      <td>2014PI031306</td>\n",
       "      <td>ZAPATA, CARLOS</td>\n",
       "      <td>ST ANNS AV &amp; E 132 ST</td>\n",
       "      <td>PS 31</td>\n",
       "      <td>8.000000e+06</td>\n",
       "      <td>2014</td>\n",
       "      <td>8.0</td>\n",
       "      <td>2014-07-24</td>\n",
       "      <td>BRONX</td>\n",
       "      <td>DEPT OF SMALL BUSINESS SERVICES</td>\n",
       "      <td>...</td>\n",
       "      <td>NaN</td>\n",
       "      <td>NaN</td>\n",
       "      <td>NaN</td>\n",
       "      <td>BRONX</td>\n",
       "      <td>Other</td>\n",
       "      <td>Other</td>\n",
       "      <td>12</td>\n",
       "      <td>80.0</td>\n",
       "      <td>80.0</td>\n",
       "      <td>4.394449</td>\n",
       "    </tr>\n",
       "    <tr>\n",
       "      <th rowspan=\"3\" valign=\"top\">BROOKLYN</th>\n",
       "      <th>high</th>\n",
       "      <td>2016PI002285</td>\n",
       "      <td>ZWITEK, WOJCIECH</td>\n",
       "      <td>VERRAZANO NARROWS BR</td>\n",
       "      <td>PS 798</td>\n",
       "      <td>1.000000e+08</td>\n",
       "      <td>2015</td>\n",
       "      <td>100.0</td>\n",
       "      <td>2015-10-20</td>\n",
       "      <td>BROOKLYN (KINGS)</td>\n",
       "      <td>NYC TRANSIT AUTHORITY</td>\n",
       "      <td>...</td>\n",
       "      <td>ARM-R</td>\n",
       "      <td>NaN</td>\n",
       "      <td>NaN</td>\n",
       "      <td>BROOKLYN</td>\n",
       "      <td>Other</td>\n",
       "      <td>Other</td>\n",
       "      <td>12</td>\n",
       "      <td>1000.0</td>\n",
       "      <td>550.0</td>\n",
       "      <td>6.311735</td>\n",
       "    </tr>\n",
       "    <tr>\n",
       "      <th>low</th>\n",
       "      <td>2015PI032606</td>\n",
       "      <td>WINBORNE, STANLEY &amp; SPANN VENGIE</td>\n",
       "      <td>SURF AV &amp; 37 ST</td>\n",
       "      <td>WATKINS AV</td>\n",
       "      <td>5.500000e+06</td>\n",
       "      <td>2015</td>\n",
       "      <td>5.5</td>\n",
       "      <td>2015-09-25</td>\n",
       "      <td>BROOKLYN (KINGS)</td>\n",
       "      <td>PUBLIC DEVELOPMENT CORP.</td>\n",
       "      <td>...</td>\n",
       "      <td>FOOT TENDON-R</td>\n",
       "      <td>NaN</td>\n",
       "      <td>NaN</td>\n",
       "      <td>BROOKLYN</td>\n",
       "      <td>PUBLIC DEVELOPMENT CORP.</td>\n",
       "      <td>Other</td>\n",
       "      <td>12</td>\n",
       "      <td>55.0</td>\n",
       "      <td>55.0</td>\n",
       "      <td>4.025352</td>\n",
       "    </tr>\n",
       "    <tr>\n",
       "      <th>medium</th>\n",
       "      <td>2015PI026775</td>\n",
       "      <td>SPONIAS, KONSTANTINOS</td>\n",
       "      <td>7002 4 AV</td>\n",
       "      <td>PS 164</td>\n",
       "      <td>6.000000e+06</td>\n",
       "      <td>2015</td>\n",
       "      <td>6.0</td>\n",
       "      <td>2015-06-30</td>\n",
       "      <td>BROOKLYN (KINGS)</td>\n",
       "      <td>DEPT OF ENVIRONMENTAL PROTECTION</td>\n",
       "      <td>...</td>\n",
       "      <td>NaN</td>\n",
       "      <td>NaN</td>\n",
       "      <td>NaN</td>\n",
       "      <td>BROOKLYN</td>\n",
       "      <td>DEPT OF ENVIRONMENTAL PROTECTION</td>\n",
       "      <td>DEPT OF ENVIRONMENTAL PROTECTION</td>\n",
       "      <td>12</td>\n",
       "      <td>60.0</td>\n",
       "      <td>60.0</td>\n",
       "      <td>4.110874</td>\n",
       "    </tr>\n",
       "    <tr>\n",
       "      <th rowspan=\"3\" valign=\"top\">MANHATTAN</th>\n",
       "      <th>high</th>\n",
       "      <td>2016PI000765</td>\n",
       "      <td>WHARTON, LARRY</td>\n",
       "      <td>WTC PATH STA</td>\n",
       "      <td>WTC</td>\n",
       "      <td>5.000000e+07</td>\n",
       "      <td>2015</td>\n",
       "      <td>50.0</td>\n",
       "      <td>2015-12-17</td>\n",
       "      <td>MANHATTAN (NEW YORK)</td>\n",
       "      <td>PUBLIC DEVELOPMENT CORP.</td>\n",
       "      <td>...</td>\n",
       "      <td>WRIST - R</td>\n",
       "      <td>NaN</td>\n",
       "      <td>NaN</td>\n",
       "      <td>MANHATTAN</td>\n",
       "      <td>PUBLIC DEVELOPMENT CORP.</td>\n",
       "      <td>Other</td>\n",
       "      <td>12</td>\n",
       "      <td>500.0</td>\n",
       "      <td>500.0</td>\n",
       "      <td>6.216606</td>\n",
       "    </tr>\n",
       "    <tr>\n",
       "      <th>low</th>\n",
       "      <td>2015PI035095</td>\n",
       "      <td>WOLCSON, JOHN &amp; TASHA</td>\n",
       "      <td>WTC</td>\n",
       "      <td>WEST ST</td>\n",
       "      <td>5.500000e+06</td>\n",
       "      <td>2015</td>\n",
       "      <td>5.5</td>\n",
       "      <td>2015-10-22</td>\n",
       "      <td>MANHATTAN (NEW YORK)</td>\n",
       "      <td>NYC TRANSIT AUTHORITY</td>\n",
       "      <td>...</td>\n",
       "      <td>NaN</td>\n",
       "      <td>NaN</td>\n",
       "      <td>NaN</td>\n",
       "      <td>MANHATTAN</td>\n",
       "      <td>Other</td>\n",
       "      <td>Other</td>\n",
       "      <td>12</td>\n",
       "      <td>55.0</td>\n",
       "      <td>55.0</td>\n",
       "      <td>4.025352</td>\n",
       "    </tr>\n",
       "    <tr>\n",
       "      <th>medium</th>\n",
       "      <td>2011PI041276</td>\n",
       "      <td>SIDOR, WALDEMAR &amp; MAGDALENA</td>\n",
       "      <td>55-01 94 ST</td>\n",
       "      <td>PS 13</td>\n",
       "      <td>8.000000e+06</td>\n",
       "      <td>2011</td>\n",
       "      <td>8.0</td>\n",
       "      <td>2011-11-10</td>\n",
       "      <td>MANHATTAN (NEW YORK)</td>\n",
       "      <td>HOUSING PRESERVATION AND DEVELOPMENT</td>\n",
       "      <td>...</td>\n",
       "      <td>NaN</td>\n",
       "      <td>NaN</td>\n",
       "      <td>NaN</td>\n",
       "      <td>MANHATTAN</td>\n",
       "      <td>HOUSING PRESERVATION AND DEVELOPMENT</td>\n",
       "      <td>Other</td>\n",
       "      <td>11</td>\n",
       "      <td>80.0</td>\n",
       "      <td>80.0</td>\n",
       "      <td>4.394449</td>\n",
       "    </tr>\n",
       "    <tr>\n",
       "      <th rowspan=\"2\" valign=\"top\">Other</th>\n",
       "      <th>high</th>\n",
       "      <td>2014PI010293</td>\n",
       "      <td>ZAKOTA, RAFAEL</td>\n",
       "      <td>RIVER RD N</td>\n",
       "      <td>CROTON FALLS</td>\n",
       "      <td>1.000000e+07</td>\n",
       "      <td>2014</td>\n",
       "      <td>10.0</td>\n",
       "      <td>2014-01-07</td>\n",
       "      <td>PUTNAM</td>\n",
       "      <td>DEPT OF ENVIRONMENTAL PROTECTION</td>\n",
       "      <td>...</td>\n",
       "      <td>NaN</td>\n",
       "      <td>NaN</td>\n",
       "      <td>NaN</td>\n",
       "      <td>Other</td>\n",
       "      <td>DEPT OF ENVIRONMENTAL PROTECTION</td>\n",
       "      <td>DEPT OF ENVIRONMENTAL PROTECTION</td>\n",
       "      <td>12</td>\n",
       "      <td>100.0</td>\n",
       "      <td>100.0</td>\n",
       "      <td>4.615121</td>\n",
       "    </tr>\n",
       "    <tr>\n",
       "      <th>low</th>\n",
       "      <td>2015PI006441</td>\n",
       "      <td>SERRA, THOMAS &amp; ROBIN</td>\n",
       "      <td>WALKER RD</td>\n",
       "      <td>NaN</td>\n",
       "      <td>4.000000e+06</td>\n",
       "      <td>2014</td>\n",
       "      <td>4.0</td>\n",
       "      <td>2014-12-09</td>\n",
       "      <td>WESTCHESTER</td>\n",
       "      <td>DEPT OF ENVIRONMENTAL PROTECTION</td>\n",
       "      <td>...</td>\n",
       "      <td>NaN</td>\n",
       "      <td>NaN</td>\n",
       "      <td>NaN</td>\n",
       "      <td>Other</td>\n",
       "      <td>DEPT OF ENVIRONMENTAL PROTECTION</td>\n",
       "      <td>DEPT OF ENVIRONMENTAL PROTECTION</td>\n",
       "      <td>12</td>\n",
       "      <td>40.0</td>\n",
       "      <td>40.0</td>\n",
       "      <td>3.713572</td>\n",
       "    </tr>\n",
       "    <tr>\n",
       "      <th rowspan=\"3\" valign=\"top\">QUEENS</th>\n",
       "      <th>high</th>\n",
       "      <td>2016PI000320</td>\n",
       "      <td>WOJTALA, FRANCISZEK</td>\n",
       "      <td>US TENNIS ASSOCIATION</td>\n",
       "      <td>UNION TP25000</td>\n",
       "      <td>5.000000e+09</td>\n",
       "      <td>2015</td>\n",
       "      <td>5000.0</td>\n",
       "      <td>2015-11-11</td>\n",
       "      <td>QUEENS</td>\n",
       "      <td>POLICE DEPARTMENT</td>\n",
       "      <td>...</td>\n",
       "      <td>MISCARRIAGE</td>\n",
       "      <td>TIBIA-R (SHIN BONE)</td>\n",
       "      <td>NaN</td>\n",
       "      <td>QUEENS</td>\n",
       "      <td>POLICE DEPARTMENT</td>\n",
       "      <td>Other</td>\n",
       "      <td>12</td>\n",
       "      <td>50000.0</td>\n",
       "      <td>300.0</td>\n",
       "      <td>5.707110</td>\n",
       "    </tr>\n",
       "    <tr>\n",
       "      <th>low</th>\n",
       "      <td>2015PI028427</td>\n",
       "      <td>YULFO, MARIA</td>\n",
       "      <td>QUEENSBORO BR</td>\n",
       "      <td>ROOSEVELT ISLAND</td>\n",
       "      <td>5.500000e+06</td>\n",
       "      <td>2015</td>\n",
       "      <td>5.5</td>\n",
       "      <td>2015-08-08</td>\n",
       "      <td>QUEENS</td>\n",
       "      <td>POLICE DEPARTMENT</td>\n",
       "      <td>...</td>\n",
       "      <td>NaN</td>\n",
       "      <td>NaN</td>\n",
       "      <td>NaN</td>\n",
       "      <td>QUEENS</td>\n",
       "      <td>POLICE DEPARTMENT</td>\n",
       "      <td>Other</td>\n",
       "      <td>12</td>\n",
       "      <td>55.0</td>\n",
       "      <td>55.0</td>\n",
       "      <td>4.025352</td>\n",
       "    </tr>\n",
       "    <tr>\n",
       "      <th>medium</th>\n",
       "      <td>2015PI035962</td>\n",
       "      <td>SZYMANOWSKI, JERZY</td>\n",
       "      <td>93-11 101 AV</td>\n",
       "      <td>PS 70</td>\n",
       "      <td>9.000000e+06</td>\n",
       "      <td>2015</td>\n",
       "      <td>9.0</td>\n",
       "      <td>2015-10-29</td>\n",
       "      <td>QUEENS</td>\n",
       "      <td>DEPT OF PARKS &amp; RECREATION</td>\n",
       "      <td>...</td>\n",
       "      <td>INSPECTION (LACK OF)</td>\n",
       "      <td>LUMBAR (RELATING TO LOINS OR LOWER BACK)</td>\n",
       "      <td>NaN</td>\n",
       "      <td>QUEENS</td>\n",
       "      <td>Other</td>\n",
       "      <td>Other</td>\n",
       "      <td>10</td>\n",
       "      <td>90.0</td>\n",
       "      <td>90.0</td>\n",
       "      <td>4.510860</td>\n",
       "    </tr>\n",
       "    <tr>\n",
       "      <th rowspan=\"3\" valign=\"top\">STATEN ISLAND</th>\n",
       "      <th>high</th>\n",
       "      <td>2015PI030283</td>\n",
       "      <td>ZALEWSKI, HENRYK</td>\n",
       "      <td>STATEN ISL FERRY TERMINAL</td>\n",
       "      <td>PS 15</td>\n",
       "      <td>2.500000e+07</td>\n",
       "      <td>2015</td>\n",
       "      <td>25.0</td>\n",
       "      <td>2015-08-28</td>\n",
       "      <td>STATEN ISLAND (RICHMOND)</td>\n",
       "      <td>DOT - BUREAU OF MARINE/AVIATION</td>\n",
       "      <td>...</td>\n",
       "      <td>NaN</td>\n",
       "      <td>NaN</td>\n",
       "      <td>NaN</td>\n",
       "      <td>STATEN ISLAND</td>\n",
       "      <td>Other</td>\n",
       "      <td>Other</td>\n",
       "      <td>12</td>\n",
       "      <td>250.0</td>\n",
       "      <td>250.0</td>\n",
       "      <td>5.525453</td>\n",
       "    </tr>\n",
       "    <tr>\n",
       "      <th>low</th>\n",
       "      <td>2015PI029674</td>\n",
       "      <td>YOUNG, PHILIP</td>\n",
       "      <td>VERRAZANO NARROWS BR</td>\n",
       "      <td>TOTTENVILLE HS</td>\n",
       "      <td>5.500000e+06</td>\n",
       "      <td>2015</td>\n",
       "      <td>5.5</td>\n",
       "      <td>2015-07-28</td>\n",
       "      <td>STATEN ISLAND (RICHMOND)</td>\n",
       "      <td>PUBLIC DEVELOPMENT CORP.</td>\n",
       "      <td>...</td>\n",
       "      <td>NaN</td>\n",
       "      <td>NaN</td>\n",
       "      <td>NaN</td>\n",
       "      <td>STATEN ISLAND</td>\n",
       "      <td>PUBLIC DEVELOPMENT CORP.</td>\n",
       "      <td>Other</td>\n",
       "      <td>12</td>\n",
       "      <td>55.0</td>\n",
       "      <td>55.0</td>\n",
       "      <td>4.025352</td>\n",
       "    </tr>\n",
       "    <tr>\n",
       "      <th>medium</th>\n",
       "      <td>2015PI015792</td>\n",
       "      <td>EARL, KENNETH &amp; DONNA</td>\n",
       "      <td>91 HENDERSON AV</td>\n",
       "      <td>PS 373</td>\n",
       "      <td>6.000000e+06</td>\n",
       "      <td>2015</td>\n",
       "      <td>6.0</td>\n",
       "      <td>2015-05-07</td>\n",
       "      <td>STATEN ISLAND (RICHMOND)</td>\n",
       "      <td>DEPT OF EDUCATION</td>\n",
       "      <td>...</td>\n",
       "      <td>NaN</td>\n",
       "      <td>NaN</td>\n",
       "      <td>NaN</td>\n",
       "      <td>STATEN ISLAND</td>\n",
       "      <td>DEPT OF EDUCATION</td>\n",
       "      <td>DEPT OF EDUCATION</td>\n",
       "      <td>5</td>\n",
       "      <td>60.0</td>\n",
       "      <td>60.0</td>\n",
       "      <td>4.110874</td>\n",
       "    </tr>\n",
       "  </tbody>\n",
       "</table>\n",
       "<p>17 rows × 32 columns</p>\n",
       "</div>"
      ],
      "text/plain": [
       "                                ClaimNo                          Claimant  \\\n",
       "BORO.adj      Claim_Class                                                   \n",
       "BRONX         high         2016PI000234          ZAINO, ROCCO & MARY LYNN   \n",
       "              low          2015PI035391                    WYDERKA, RALPH   \n",
       "              medium       2014PI031306                    ZAPATA, CARLOS   \n",
       "BROOKLYN      high         2016PI002285                  ZWITEK, WOJCIECH   \n",
       "              low          2015PI032606  WINBORNE, STANLEY & SPANN VENGIE   \n",
       "              medium       2015PI026775             SPONIAS, KONSTANTINOS   \n",
       "MANHATTAN     high         2016PI000765                    WHARTON, LARRY   \n",
       "              low          2015PI035095             WOLCSON, JOHN & TASHA   \n",
       "              medium       2011PI041276       SIDOR, WALDEMAR & MAGDALENA   \n",
       "Other         high         2014PI010293                    ZAKOTA, RAFAEL   \n",
       "              low          2015PI006441             SERRA, THOMAS & ROBIN   \n",
       "QUEENS        high         2016PI000320               WOJTALA, FRANCISZEK   \n",
       "              low          2015PI028427                      YULFO, MARIA   \n",
       "              medium       2015PI035962                SZYMANOWSKI, JERZY   \n",
       "STATEN ISLAND high         2015PI030283                  ZALEWSKI, HENRYK   \n",
       "              low          2015PI029674                     YOUNG, PHILIP   \n",
       "              medium       2015PI015792             EARL, KENNETH & DONNA   \n",
       "\n",
       "                                             Street1           Street2  \\\n",
       "BORO.adj      Claim_Class                                                \n",
       "BRONX         high                       WHITLOCK AV    WESTCHESTER AV   \n",
       "              low                     YANKEE STADIUM          W 238 ST   \n",
       "              medium           ST ANNS AV & E 132 ST             PS 31   \n",
       "BROOKLYN      high              VERRAZANO NARROWS BR            PS 798   \n",
       "              low                    SURF AV & 37 ST        WATKINS AV   \n",
       "              medium                       7002 4 AV            PS 164   \n",
       "MANHATTAN     high                      WTC PATH STA               WTC   \n",
       "              low                                WTC           WEST ST   \n",
       "              medium                     55-01 94 ST             PS 13   \n",
       "Other         high                        RIVER RD N      CROTON FALLS   \n",
       "              low                          WALKER RD               NaN   \n",
       "QUEENS        high             US TENNIS ASSOCIATION     UNION TP25000   \n",
       "              low                      QUEENSBORO BR  ROOSEVELT ISLAND   \n",
       "              medium                    93-11 101 AV             PS 70   \n",
       "STATEN ISLAND high         STATEN ISL FERRY TERMINAL             PS 15   \n",
       "              low               VERRAZANO NARROWS BR    TOTTENVILLE HS   \n",
       "              medium                 91 HENDERSON AV            PS 373   \n",
       "\n",
       "                           CLAIMED_AMOUNT  Year  Claim_Amt.1M  ClaimDate  \\\n",
       "BORO.adj      Claim_Class                                                  \n",
       "BRONX         high           5.000000e+09  2015        5000.0 2015-11-13   \n",
       "              low            5.500000e+06  2015           5.5 2015-09-27   \n",
       "              medium         8.000000e+06  2014           8.0 2014-07-24   \n",
       "BROOKLYN      high           1.000000e+08  2015         100.0 2015-10-20   \n",
       "              low            5.500000e+06  2015           5.5 2015-09-25   \n",
       "              medium         6.000000e+06  2015           6.0 2015-06-30   \n",
       "MANHATTAN     high           5.000000e+07  2015          50.0 2015-12-17   \n",
       "              low            5.500000e+06  2015           5.5 2015-10-22   \n",
       "              medium         8.000000e+06  2011           8.0 2011-11-10   \n",
       "Other         high           1.000000e+07  2014          10.0 2014-01-07   \n",
       "              low            4.000000e+06  2014           4.0 2014-12-09   \n",
       "QUEENS        high           5.000000e+09  2015        5000.0 2015-11-11   \n",
       "              low            5.500000e+06  2015           5.5 2015-08-08   \n",
       "              medium         9.000000e+06  2015           9.0 2015-10-29   \n",
       "STATEN ISLAND high           2.500000e+07  2015          25.0 2015-08-28   \n",
       "              low            5.500000e+06  2015           5.5 2015-07-28   \n",
       "              medium         6.000000e+06  2015           6.0 2015-05-07   \n",
       "\n",
       "                                               Boro  \\\n",
       "BORO.adj      Claim_Class                             \n",
       "BRONX         high                            BRONX   \n",
       "              low                             BRONX   \n",
       "              medium                          BRONX   \n",
       "BROOKLYN      high                 BROOKLYN (KINGS)   \n",
       "              low                  BROOKLYN (KINGS)   \n",
       "              medium               BROOKLYN (KINGS)   \n",
       "MANHATTAN     high             MANHATTAN (NEW YORK)   \n",
       "              low              MANHATTAN (NEW YORK)   \n",
       "              medium           MANHATTAN (NEW YORK)   \n",
       "Other         high                           PUTNAM   \n",
       "              low                       WESTCHESTER   \n",
       "QUEENS        high                           QUEENS   \n",
       "              low                            QUEENS   \n",
       "              medium                         QUEENS   \n",
       "STATEN ISLAND high         STATEN ISLAND (RICHMOND)   \n",
       "              low          STATEN ISLAND (RICHMOND)   \n",
       "              medium       STATEN ISLAND (RICHMOND)   \n",
       "\n",
       "                                                       DeptDesc  \\\n",
       "BORO.adj      Claim_Class                                         \n",
       "BRONX         high                        NYC TRANSIT AUTHORITY   \n",
       "              low                         NYC TRANSIT AUTHORITY   \n",
       "              medium            DEPT OF SMALL BUSINESS SERVICES   \n",
       "BROOKLYN      high                        NYC TRANSIT AUTHORITY   \n",
       "              low                      PUBLIC DEVELOPMENT CORP.   \n",
       "              medium           DEPT OF ENVIRONMENTAL PROTECTION   \n",
       "MANHATTAN     high                     PUBLIC DEVELOPMENT CORP.   \n",
       "              low                         NYC TRANSIT AUTHORITY   \n",
       "              medium       HOUSING PRESERVATION AND DEVELOPMENT   \n",
       "Other         high             DEPT OF ENVIRONMENTAL PROTECTION   \n",
       "              low              DEPT OF ENVIRONMENTAL PROTECTION   \n",
       "QUEENS        high                            POLICE DEPARTMENT   \n",
       "              low                             POLICE DEPARTMENT   \n",
       "              medium                 DEPT OF PARKS & RECREATION   \n",
       "STATEN ISLAND high              DOT - BUREAU OF MARINE/AVIATION   \n",
       "              low                      PUBLIC DEVELOPMENT CORP.   \n",
       "              medium                          DEPT OF EDUCATION   \n",
       "\n",
       "                                ...                       RIS.4  \\\n",
       "BORO.adj      Claim_Class       ...                               \n",
       "BRONX         high              ...                    BACKBONE   \n",
       "              low               ...                         NaN   \n",
       "              medium            ...                         NaN   \n",
       "BROOKLYN      high              ...                       ARM-R   \n",
       "              low               ...               FOOT TENDON-R   \n",
       "              medium            ...                         NaN   \n",
       "MANHATTAN     high              ...                   WRIST - R   \n",
       "              low               ...                         NaN   \n",
       "              medium            ...                         NaN   \n",
       "Other         high              ...                         NaN   \n",
       "              low               ...                         NaN   \n",
       "QUEENS        high              ...                 MISCARRIAGE   \n",
       "              low               ...                         NaN   \n",
       "              medium            ...        INSPECTION (LACK OF)   \n",
       "STATEN ISLAND high              ...                         NaN   \n",
       "              low               ...                         NaN   \n",
       "              medium            ...                         NaN   \n",
       "\n",
       "                                                                 RI RIS.5  \\\n",
       "BORO.adj      Claim_Class                                                   \n",
       "BRONX         high                       HIP JOINT (ACETABULUM) - L   NaN   \n",
       "              low                                               NaN   NaN   \n",
       "              medium                                            NaN   NaN   \n",
       "BROOKLYN      high                                              NaN   NaN   \n",
       "              low                                               NaN   NaN   \n",
       "              medium                                            NaN   NaN   \n",
       "MANHATTAN     high                                              NaN   NaN   \n",
       "              low                                               NaN   NaN   \n",
       "              medium                                            NaN   NaN   \n",
       "Other         high                                              NaN   NaN   \n",
       "              low                                               NaN   NaN   \n",
       "QUEENS        high                              TIBIA-R (SHIN BONE)   NaN   \n",
       "              low                                               NaN   NaN   \n",
       "              medium       LUMBAR (RELATING TO LOINS OR LOWER BACK)   NaN   \n",
       "STATEN ISLAND high                                              NaN   NaN   \n",
       "              low                                               NaN   NaN   \n",
       "              medium                                            NaN   NaN   \n",
       "\n",
       "                                Boro.adj  \\\n",
       "BORO.adj      Claim_Class                  \n",
       "BRONX         high                 BRONX   \n",
       "              low                  BRONX   \n",
       "              medium               BRONX   \n",
       "BROOKLYN      high              BROOKLYN   \n",
       "              low               BROOKLYN   \n",
       "              medium            BROOKLYN   \n",
       "MANHATTAN     high             MANHATTAN   \n",
       "              low              MANHATTAN   \n",
       "              medium           MANHATTAN   \n",
       "Other         high                 Other   \n",
       "              low                  Other   \n",
       "QUEENS        high                QUEENS   \n",
       "              low                 QUEENS   \n",
       "              medium              QUEENS   \n",
       "STATEN ISLAND high         STATEN ISLAND   \n",
       "              low          STATEN ISLAND   \n",
       "              medium       STATEN ISLAND   \n",
       "\n",
       "                                                       Dept.adj  \\\n",
       "BORO.adj      Claim_Class                                         \n",
       "BRONX         high                                        Other   \n",
       "              low                                         Other   \n",
       "              medium                                      Other   \n",
       "BROOKLYN      high                                        Other   \n",
       "              low                      PUBLIC DEVELOPMENT CORP.   \n",
       "              medium           DEPT OF ENVIRONMENTAL PROTECTION   \n",
       "MANHATTAN     high                     PUBLIC DEVELOPMENT CORP.   \n",
       "              low                                         Other   \n",
       "              medium       HOUSING PRESERVATION AND DEVELOPMENT   \n",
       "Other         high             DEPT OF ENVIRONMENTAL PROTECTION   \n",
       "              low              DEPT OF ENVIRONMENTAL PROTECTION   \n",
       "QUEENS        high                            POLICE DEPARTMENT   \n",
       "              low                             POLICE DEPARTMENT   \n",
       "              medium                                      Other   \n",
       "STATEN ISLAND high                                        Other   \n",
       "              low                      PUBLIC DEVELOPMENT CORP.   \n",
       "              medium                          DEPT OF EDUCATION   \n",
       "\n",
       "                                                 Agency.adj Month  \\\n",
       "BORO.adj      Claim_Class                                           \n",
       "BRONX         high                                    Other    12   \n",
       "              low                                     Other    12   \n",
       "              medium                                  Other    12   \n",
       "BROOKLYN      high                                    Other    12   \n",
       "              low                                     Other    12   \n",
       "              medium       DEPT OF ENVIRONMENTAL PROTECTION    12   \n",
       "MANHATTAN     high                                    Other    12   \n",
       "              low                                     Other    12   \n",
       "              medium                                  Other    11   \n",
       "Other         high         DEPT OF ENVIRONMENTAL PROTECTION    12   \n",
       "              low          DEPT OF ENVIRONMENTAL PROTECTION    12   \n",
       "QUEENS        high                                    Other    12   \n",
       "              low                                     Other    12   \n",
       "              medium                                  Other    10   \n",
       "STATEN ISLAND high                                    Other    12   \n",
       "              low                                     Other    12   \n",
       "              medium                      DEPT OF EDUCATION     5   \n",
       "\n",
       "                          ClaimAmt_100k Claim_Amt.adj ClaimAmt_logadj  \n",
       "BORO.adj      Claim_Class                                              \n",
       "BRONX         high              50000.0         500.0        6.216606  \n",
       "              low                  55.0          55.0        4.025352  \n",
       "              medium               80.0          80.0        4.394449  \n",
       "BROOKLYN      high               1000.0         550.0        6.311735  \n",
       "              low                  55.0          55.0        4.025352  \n",
       "              medium               60.0          60.0        4.110874  \n",
       "MANHATTAN     high                500.0         500.0        6.216606  \n",
       "              low                  55.0          55.0        4.025352  \n",
       "              medium               80.0          80.0        4.394449  \n",
       "Other         high                100.0         100.0        4.615121  \n",
       "              low                  40.0          40.0        3.713572  \n",
       "QUEENS        high              50000.0         300.0        5.707110  \n",
       "              low                  55.0          55.0        4.025352  \n",
       "              medium               90.0          90.0        4.510860  \n",
       "STATEN ISLAND high                250.0         250.0        5.525453  \n",
       "              low                  55.0          55.0        4.025352  \n",
       "              medium               60.0          60.0        4.110874  \n",
       "\n",
       "[17 rows x 32 columns]"
      ]
     },
     "execution_count": 94,
     "metadata": {},
     "output_type": "execute_result"
    }
   ],
   "source": [
    "df.groupby(['BORO.adj', 'Claim_Class']).max()"
   ]
  },
  {
   "cell_type": "code",
   "execution_count": 65,
   "metadata": {
    "collapsed": false
   },
   "outputs": [
    {
     "data": {
      "text/plain": [
       "Agency.adj                        Claim_Class\n",
       "DEPT OF DESIGN AND CONSTRUCTION   high             6\n",
       "                                  low             15\n",
       "                                  medium           2\n",
       "DEPT OF EDUCATION                 high            34\n",
       "                                  low             47\n",
       "                                  medium           9\n",
       "DEPT OF ENVIRONMENTAL PROTECTION  high            26\n",
       "                                  low             39\n",
       "                                  medium           3\n",
       "DEPT OF PARKS & RECREATION        high            12\n",
       "                                  low             13\n",
       "                                  medium           1\n",
       "DEPT OF TRANSPORTATION            high            15\n",
       "                                  low             25\n",
       "NYC TRANSIT AUTHORITY             high            22\n",
       "                                  low             16\n",
       "Other                             high           148\n",
       "                                  low            122\n",
       "                                  medium           5\n",
       "dtype: int64"
      ]
     },
     "execution_count": 65,
     "metadata": {},
     "output_type": "execute_result"
    }
   ],
   "source": [
    "df.groupby(['Agency.adj', 'Claim_Class']).size()"
   ]
  },
  {
   "cell_type": "code",
   "execution_count": 92,
   "metadata": {
    "collapsed": false
   },
   "outputs": [
    {
     "data": {
      "text/plain": [
       "Agency.adj                        RIS.1                          \n",
       "DEPT OF DESIGN AND CONSTRUCTION   CITY BLDG - WALKS & GROUNDS          1\n",
       "DEPT OF TRANSPORTATION            CITY BLDG - CIVIC/PUBLIC             1\n",
       "NYC TRANSIT AUTHORITY             CITY BLDG - CIVIC/PUBLIC             1\n",
       "DEPT OF PARKS & RECREATION        INJURED BY                           1\n",
       "NYC TRANSIT AUTHORITY             CITY LOT/LAND                        1\n",
       "DEPT OF ENVIRONMENTAL PROTECTION  UNKNOWN                              1\n",
       "Other                             FLOOR/SURFACE - HOLE/DEPRESSION      1\n",
       "NYC TRANSIT AUTHORITY             DEMOLITION                           1\n",
       "Other                             CITY BLDG - CIVIC/PUBLIC             1\n",
       "                                  COLLAPSE/STRUCTURAL FAILURE          1\n",
       "DEPT OF EDUCATION                 CHEMICAL/GAS                         1\n",
       "Other                             DEMOLITION                           1\n",
       "                                  UNKNOWN                              1\n",
       "                                  CITY BLDG - UNSPEC                   3\n",
       "                                  CORRECTIONAL FACILITY                3\n",
       "NYC TRANSIT AUTHORITY             SLIP/FALL                            3\n",
       "DEPT OF PARKS & RECREATION        SLIP/FALL                            4\n",
       "DEPT OF TRANSPORTATION            INJURED BY                           5\n",
       "NYC TRANSIT AUTHORITY             INJURED BY                           7\n",
       "DEPT OF DESIGN AND CONSTRUCTION   INJURED BY                           7\n",
       "DEPT OF TRANSPORTATION            SLIP/FALL                            7\n",
       "DEPT OF EDUCATION                 INJURED BY                          12\n",
       "DEPT OF ENVIRONMENTAL PROTECTION  SLIP/FALL                           13\n",
       "DEPT OF EDUCATION                 SLIP/FALL                           13\n",
       "Other                             None                                14\n",
       "DEPT OF ENVIRONMENTAL PROTECTION  INJURED BY                          14\n",
       "NYC TRANSIT AUTHORITY             UNSAFE CONSTRUCTION SITE            15\n",
       "                                  None                                22\n",
       "DEPT OF DESIGN AND CONSTRUCTION   UNSAFE CONSTRUCTION SITE            22\n",
       "Other                             SLIP/FALL                           36\n",
       "DEPT OF PARKS & RECREATION        UNSAFE CONSTRUCTION SITE            39\n",
       "Other                             INJURED BY                          55\n",
       "DEPT OF TRANSPORTATION            UNSAFE CONSTRUCTION SITE            58\n",
       "DEPT OF ENVIRONMENTAL PROTECTION  UNSAFE CONSTRUCTION SITE            73\n",
       "DEPT OF EDUCATION                 UNSAFE CONSTRUCTION SITE           129\n",
       "Other                             UNSAFE CONSTRUCTION SITE           354\n",
       "dtype: int64"
      ]
     },
     "execution_count": 92,
     "metadata": {},
     "output_type": "execute_result"
    }
   ],
   "source": [
    "df.groupby(['Agency.adj', 'RIS.1']).size().sort_values()"
   ]
  },
  {
   "cell_type": "code",
   "execution_count": 67,
   "metadata": {
    "collapsed": false
   },
   "outputs": [
    {
     "data": {
      "text/plain": [
       "(array([0, 1, 2, 3, 4, 5, 6]), <a list of 7 Text xticklabel objects>)"
      ]
     },
     "execution_count": 67,
     "metadata": {},
     "output_type": "execute_result"
    },
    {
     "data": {
      "image/png": "[encoded data removed]",
      "text/plain": [
       "<matplotlib.figure.Figure at 0x11ac5df50>"
      ]
     },
     "metadata": {},
     "output_type": "display_data"
    }
   ],
   "source": [
    "# box plot of claim by agency \n",
    "f, ax = plt.subplots(figsize=(10, 6))\n",
    "fig = sns.boxplot(x='Agency.adj', y='Claim_Amt.adj', data = df)\n",
    "fig.axis(ymin=-0.5, ymax=600)\n",
    "plt.xticks(rotation=30)"
   ]
  },
  {
   "cell_type": "code",
   "execution_count": 68,
   "metadata": {
    "collapsed": false
   },
   "outputs": [
    {
     "data": {
      "text/plain": [
       "<matplotlib.axes._subplots.AxesSubplot at 0x11b14b910>"
      ]
     },
     "execution_count": 68,
     "metadata": {},
     "output_type": "execute_result"
    },
    {
     "data": {
      "image/png": "[encoded data removed]",
      "text/plain": [
       "<matplotlib.figure.Figure at 0x11ae18150>"
      ]
     },
     "metadata": {},
     "output_type": "display_data"
    }
   ],
   "source": [
    "# correlation matrix\n",
    "corrmat = df.corr()\n",
    "r, ax = plt.subplots(figsize=(12,9))\n",
    "sns.heatmap(corrmat, vmax=0.8, square=True)"
   ]
  },
  {
   "cell_type": "code",
   "execution_count": 69,
   "metadata": {
    "collapsed": false
   },
   "outputs": [],
   "source": [
    "# histogram and normal probability plot\n",
    "#sns.distplot(df['Claim_Amt.adj']);\n",
    "#fig = plt.figure()\n",
    "#res = stats.probplot(df['Claim_Amt.adj'], plot = plt)"
   ]
  },
  {
   "cell_type": "code",
   "execution_count": 70,
   "metadata": {
    "collapsed": false
   },
   "outputs": [
    {
     "data": {
      "text/plain": [
       "(array([ 0,  1,  2,  3,  4,  5,  6,  7,  8,  9, 10, 11]),\n",
       " <a list of 12 Text xticklabel objects>)"
      ]
     },
     "execution_count": 70,
     "metadata": {},
     "output_type": "execute_result"
    },
    {
     "data": {
      "image/png": "[encoded data removed]",
      "text/plain": [
       "<matplotlib.figure.Figure at 0x11afb7bd0>"
      ]
     },
     "metadata": {},
     "output_type": "display_data"
    }
   ],
   "source": [
    "# claim by month\n",
    "f, ax = plt.subplots(figsize=(10, 6))\n",
    "fig = sns.boxplot(x='Month', y='Claim_Amt.adj', data = df)\n",
    "fig.axis(ymin=-0.5, ymax=6.5)\n",
    "plt.xticks(rotation=30)"
   ]
  },
  {
   "cell_type": "code",
   "execution_count": 71,
   "metadata": {
    "collapsed": false
   },
   "outputs": [],
   "source": [
    "# create training and testing matricies\n",
    "#dum_df.dtypes"
   ]
  },
  {
   "cell_type": "code",
   "execution_count": 72,
   "metadata": {
    "collapsed": false
   },
   "outputs": [],
   "source": [
    "# create dataset for Claim_Amt being not null indicating Claim is active/being pursued\n",
    "claim_notnull=dum_df[dum_df['Claim_Amt.adj'].notnull()]"
   ]
  },
  {
   "cell_type": "code",
   "execution_count": 73,
   "metadata": {
    "collapsed": true
   },
   "outputs": [],
   "source": [
    "# create dataset for Claim_Amt being not null indicating Claim is not active or not yet filed\n",
    "claim_null=dum_df[dum_df['Claim_Amt.adj'].isnull()]"
   ]
  },
  {
   "cell_type": "code",
   "execution_count": 74,
   "metadata": {
    "collapsed": false
   },
   "outputs": [
    {
     "name": "stderr",
     "output_type": "stream",
     "text": [
      "/Users/owner/anaconda/lib/python2.7/site-packages/sklearn/cross_validation.py:44: DeprecationWarning: This module was deprecated in version 0.18 in favor of the model_selection module into which all the refactored classes and functions are moved. Also note that the interface of the new CV iterators are different from that of this module. This module will be removed in 0.20.\n",
      "  \"This module will be removed in 0.20.\", DeprecationWarning)\n"
     ]
    }
   ],
   "source": [
    "# create training, testing split\n",
    "from sklearn.cross_validation import train_test_split"
   ]
  },
  {
   "cell_type": "code",
   "execution_count": 75,
   "metadata": {
    "collapsed": true
   },
   "outputs": [],
   "source": [
    "X_train, X_test = train_test_split(claim_notnull, test_size = 0.2)"
   ]
  },
  {
   "cell_type": "code",
   "execution_count": 76,
   "metadata": {
    "collapsed": true
   },
   "outputs": [],
   "source": [
    "y_train = X_train.pop('Claim_Amt.adj')"
   ]
  },
  {
   "cell_type": "code",
   "execution_count": 77,
   "metadata": {
    "collapsed": false
   },
   "outputs": [],
   "source": [
    "y_test = X_test.pop('Claim_Amt.adj')"
   ]
  },
  {
   "cell_type": "code",
   "execution_count": 78,
   "metadata": {
    "collapsed": false
   },
   "outputs": [],
   "source": [
    "#X_train.dtypes"
   ]
  },
  {
   "cell_type": "code",
   "execution_count": 79,
   "metadata": {
    "collapsed": false
   },
   "outputs": [],
   "source": [
    "from sklearn.linear_model import Ridge, RidgeCV, ElasticNet, LassoCV, LassoLarsCV\n",
    "from sklearn.model_selection import cross_val_score"
   ]
  },
  {
   "cell_type": "code",
   "execution_count": 80,
   "metadata": {
    "collapsed": false
   },
   "outputs": [],
   "source": [
    "def rmse_cv(model):\n",
    "    rmse= np.sqrt(-cross_val_score(model, X_train.ix[:,'Year':], y_train, scoring=\n",
    "                                   \"neg_mean_squared_error\", cv = 10))\n",
    "    return(rmse)"
   ]
  },
  {
   "cell_type": "code",
   "execution_count": 81,
   "metadata": {
    "collapsed": true
   },
   "outputs": [],
   "source": [
    "# Ridge Model\n",
    "model_ridge = Ridge()"
   ]
  },
  {
   "cell_type": "code",
   "execution_count": 82,
   "metadata": {
    "collapsed": true
   },
   "outputs": [],
   "source": [
    "alphas = [0.05, 0.1, 0.3, 1, 3, 5, 10, 15, 30, 50, 75]\n",
    "cv_ridge = [rmse_cv(Ridge(alpha = alpha)).mean() \n",
    "            for alpha in alphas]"
   ]
  },
  {
   "cell_type": "code",
   "execution_count": 83,
   "metadata": {
    "collapsed": false
   },
   "outputs": [
    {
     "data": {
      "text/plain": [
       "<matplotlib.text.Text at 0x11a65cc90>"
      ]
     },
     "execution_count": 83,
     "metadata": {},
     "output_type": "execute_result"
    },
    {
     "data": {
      "image/png": "[encoded data removed]",
      "text/plain": [
       "<matplotlib.figure.Figure at 0x11a5c4410>"
      ]
     },
     "metadata": {},
     "output_type": "display_data"
    }
   ],
   "source": [
    "cv_ridge = pd.Series(cv_ridge, index = alphas)\n",
    "cv_ridge.plot(title = \"Validation - Just Do It\")\n",
    "plt.xlabel(\"alpha\")\n",
    "plt.ylabel(\"rmse\")"
   ]
  },
  {
   "cell_type": "code",
   "execution_count": 84,
   "metadata": {
    "collapsed": false
   },
   "outputs": [
    {
     "name": "stdout",
     "output_type": "stream",
     "text": [
      "Ridge regression alpha score on training set:  80.9700479703\n"
     ]
    }
   ],
   "source": [
    "print \"Ridge regression alpha score on training set: \",cv_ridge.min()"
   ]
  },
  {
   "cell_type": "code",
   "execution_count": 85,
   "metadata": {
    "collapsed": false
   },
   "outputs": [
    {
     "name": "stderr",
     "output_type": "stream",
     "text": [
      "/Users/owner/anaconda/lib/python2.7/site-packages/sklearn/linear_model/coordinate_descent.py:484: ConvergenceWarning: Objective did not converge. You might want to increase the number of iterations. Fitting data with very small alpha may cause precision problems.\n",
      "  ConvergenceWarning)\n"
     ]
    }
   ],
   "source": [
    "# Lasso Model\n",
    "mod_lasso = LassoCV(alphas = [1,0.1,0.001,0.0005]).fit(X_train.ix[:,'Year':], y_train)"
   ]
  },
  {
   "cell_type": "code",
   "execution_count": 86,
   "metadata": {
    "collapsed": false
   },
   "outputs": [
    {
     "name": "stdout",
     "output_type": "stream",
     "text": [
      "Lasso regression alpha score on training set:  81.4054502068\n"
     ]
    }
   ],
   "source": [
    "print \"Lasso regression alpha score on training set: \", rmse_cv(mod_lasso).mean()"
   ]
  },
  {
   "cell_type": "code",
   "execution_count": 87,
   "metadata": {
    "collapsed": false
   },
   "outputs": [],
   "source": [
    "# prediction of testing set\n",
    "y_pred_train = mod_lasso.predict(X_train.ix[:,'Year':])"
   ]
  },
  {
   "cell_type": "code",
   "execution_count": 88,
   "metadata": {
    "collapsed": true
   },
   "outputs": [],
   "source": [
    "# use exponent if log the claim amount\n",
    "y_pred_train = np.exp(y_pred_train)"
   ]
  },
  {
   "cell_type": "code",
   "execution_count": 89,
   "metadata": {
    "collapsed": false
   },
   "outputs": [
    {
     "data": {
      "text/plain": [
       "array([  5.76119743e+23,   2.88260544e+26,   1.08588390e+36,\n",
       "         3.72615378e+32,   8.58368329e+36,   4.34158448e+31,\n",
       "         5.89167501e+34,   1.22622598e+30,   3.54324246e+58,\n",
       "         3.50591018e+43,   8.15202696e+30,   1.40105118e+35,\n",
       "         5.94736744e+32,   3.72467617e+38,   2.04115844e+36,\n",
       "         3.60969621e+37,   2.03981369e+25,   1.70145068e+43,\n",
       "         1.37439027e+34,   1.19096951e+36,   3.76206804e+32,\n",
       "         1.19175466e+47,   1.34862836e+51,   1.48816013e+27,\n",
       "         1.56695940e+33,   8.15202696e+30,   4.84754219e+29,\n",
       "         3.09403357e+32,   2.83198854e+34,   6.46175839e+39,\n",
       "         1.13111522e+46,   6.64045920e+30,   2.45566025e+47,\n",
       "         9.41597943e+43,   7.52880437e+37,   6.64045920e+30,\n",
       "         6.72621044e+42,   1.61682652e+33,   1.92167991e+44,\n",
       "         1.61487664e+42,   4.12684789e+39,   2.12647585e+37,\n",
       "         5.20634992e+30,   2.69191719e+42,   2.17463553e+48,\n",
       "         3.60969621e+37,   5.05665688e+36,   4.25025964e+33,\n",
       "         3.50591018e+43,   7.60459908e+32,   2.50962071e+47,\n",
       "         1.02150672e+42,   3.95117293e+24,   3.50591018e+43,\n",
       "         1.37273276e+43,   5.83559437e+35,   1.70248654e+40,\n",
       "         4.91697055e+34,   1.96102363e+36,   1.16456152e+24,\n",
       "         1.84336398e+32,   2.47717032e+33,   1.25553111e+38,\n",
       "         4.52022507e+37,   3.22463834e+27,   1.07627001e+43,\n",
       "         9.53102129e+43,   1.88590234e+62,   2.47191153e+21,\n",
       "         4.38343053e+31,   3.76206804e+32,   1.22787599e+39,\n",
       "         5.71954054e+58,   1.27720963e+28,   1.66942728e+45,\n",
       "         8.34196068e+39,   2.23384748e+28,   2.50104635e+33,\n",
       "         8.23561054e+27,   4.17969174e+35,   2.35458237e+40,\n",
       "         4.42567990e+31,   5.27358186e+42,   6.26228529e+38,\n",
       "         4.84754219e+29,   4.05406203e+32,   2.80688112e+46,\n",
       "         5.42431050e+30,   2.14782345e+31,   1.92000680e+30,\n",
       "         1.55200055e+33,   5.47508537e+28,   1.73546329e+40,\n",
       "         3.65630985e+49,   2.63174377e+28,   3.27048003e+45,\n",
       "         2.37179381e+26,   1.73546329e+40,   2.53488581e+42,\n",
       "         6.64769897e+39,   6.51566036e+33,   4.17969174e+35,\n",
       "         1.60181189e+50,   1.94515847e+44,   1.21451992e+30,\n",
       "         1.52290948e+50,   1.56629407e+38,   1.46115472e+41,\n",
       "         1.66268210e+36,   1.46026570e+44,   2.30243757e+29,\n",
       "         7.29178940e+26,   1.01069122e+33,   3.09597152e+27,\n",
       "         2.47191153e+21,   3.29575487e+42,   7.07026106e+28,\n",
       "         4.67007538e+43,   7.01475741e+48,   1.38859099e+46,\n",
       "         3.27048003e+45,   2.19652823e+43,   1.03135244e+42,\n",
       "         9.44003420e+43,   8.24669241e+36,   7.52901562e+38,\n",
       "         3.77466691e+31,   3.88446065e+44,   1.04172440e+34,\n",
       "         8.42236406e+39,   3.71910383e+29,   2.04799412e+35,\n",
       "         5.27134272e+47,   4.94453296e+24,   2.47769553e+36,\n",
       "         2.12731943e+31,   8.49613881e+25,   1.04172440e+34,\n",
       "         9.30844546e+40,   7.49863981e+32,   5.95098825e+29,\n",
       "         1.37475096e+51,   2.35608197e+38,   4.34158448e+31,\n",
       "         2.05947428e+25,   6.67179374e+50,   3.72615378e+32,\n",
       "         1.61793781e+45,   8.85710008e+37,   3.12581182e+27,\n",
       "         6.39989220e+38,   1.42605253e+26,   1.30535446e+45,\n",
       "         2.83029524e+40,   3.77266874e+49,   1.14318602e+35,\n",
       "         2.85508689e+26,   4.08496433e+42,   1.13074501e+50,\n",
       "         5.78369575e+46,   2.37828665e+35,   7.15642654e+45,\n",
       "         2.62625091e+28,   9.60875851e+35,   4.96384208e+47,\n",
       "         3.11222808e+29,   1.03240782e+31,   1.17656120e+35,\n",
       "         1.36036748e+61,   1.40197482e+46,   9.71384791e+41,\n",
       "         4.66629373e+46,   1.03135244e+42,   2.28045755e+29,\n",
       "         3.96981745e+44,   2.85457034e+31,   4.50777784e+37,\n",
       "         9.59000782e+29,   2.88260544e+26,   1.30449447e+34,\n",
       "         3.50140733e+37,   1.09547574e+34,   1.93729922e+35,\n",
       "         7.36692422e+37,   2.50256901e+30,   9.32609058e+43,\n",
       "         1.01175499e+42,   9.23313785e+48,   1.71383980e+28,\n",
       "         1.53160678e+27,   8.07591621e+33,   7.08680468e+43,\n",
       "         3.29575487e+42,   1.26611920e+42,   1.06254884e+31,\n",
       "         1.33147230e+40,   1.70248654e+40,   8.86061374e+31,\n",
       "         1.20169591e+41,   5.26569225e+33,   5.78369575e+46,\n",
       "         1.67245952e+33,   1.90333476e+44,   2.47717032e+33,\n",
       "         1.50349418e+38,   1.55134158e+38,   2.94221967e+32,\n",
       "         1.69993952e+31,   6.37937860e+27,   8.10188521e+44,\n",
       "         4.69897801e+29,   6.00469071e+32,   7.83714592e+41,\n",
       "         4.28946120e+37,   4.17969174e+35,   3.53877293e+26,\n",
       "         1.08664356e+43,   6.19208023e+38,   1.36998493e+23,\n",
       "         3.29575487e+42,   4.07971776e+36,   4.51926691e+34,\n",
       "         7.43302956e+26,   7.83974577e+56,   3.55296475e+36,\n",
       "         9.62111549e+41,   5.47508537e+28,   2.80688112e+46,\n",
       "         2.28642270e+46,   2.15387555e+48,   4.95746672e+41,\n",
       "         2.28642270e+46,   8.14692414e+35,   2.65497378e+34,\n",
       "         3.29132604e+33,   1.60137202e+38,   5.41942348e+33,\n",
       "         2.88882766e+46,   8.66070692e+25,   8.77832983e+48,\n",
       "         1.03240782e+31,   8.53021155e+35,   4.25739808e+37,\n",
       "         1.06554288e+48,   3.46121397e+31,   1.64542675e+30,\n",
       "         9.30844546e+40,   1.30535446e+45,   7.36207078e+26,\n",
       "         1.46026570e+44,   7.06389112e+31,   1.98247102e+42,\n",
       "         7.08680468e+43,   1.01305612e+48,   4.71508756e+43,\n",
       "         4.75965803e+41,   1.20144118e+38,   1.20324130e+47,\n",
       "         2.40925106e+34,   6.79924035e+33,   1.07423369e+40,\n",
       "         1.77327200e+38,   3.06843763e+38,   3.91920697e+32,\n",
       "         4.12433696e+42,   3.65630985e+49,   6.46854825e+68,\n",
       "         4.38169228e+37,   3.43025888e+28,   8.53021155e+35,\n",
       "         2.08476341e+42,   1.76870379e+37,   1.46026570e+44,\n",
       "         7.73723156e+29,   1.40197482e+46,   1.96390674e+44,\n",
       "         1.78457483e+26,   9.41597943e+43,   4.65411962e+29,\n",
       "         1.80529821e+32,   1.04285559e+33,   1.43067830e+38,\n",
       "         2.01907613e+30,   2.39962764e+24,   7.06819167e+28,\n",
       "         7.43302956e+26,   1.47244678e+38,   1.79154385e+49,\n",
       "         3.88281133e+49,   9.02498128e+37,   2.47769553e+36,\n",
       "         9.89320814e+29,   1.61682652e+33,   3.19660411e+38,\n",
       "         3.03914505e+38,   4.25739808e+37,   1.80833694e+32,\n",
       "         3.57523656e+37,   1.11052137e+43,   3.23788330e+50,\n",
       "         5.07560396e+29,   3.47455536e+40,   9.81136481e+35,\n",
       "         8.14155682e+24,   1.47244678e+38,   5.12181206e+47,\n",
       "         5.81205067e+29,   2.14691149e+36,   4.39578210e+48,\n",
       "         5.72604991e+51,   5.89572451e+46,   4.91697055e+34,\n",
       "         1.30617207e+40,   6.73896067e+45,   6.44263855e+29,\n",
       "         9.23313785e+48,   1.70145068e+43,   4.75667868e+46,\n",
       "         8.85710008e+37,   1.49003970e+59,   2.04115844e+36,\n",
       "         1.61793781e+45,   4.04343496e+47,   2.28642270e+46,\n",
       "         8.33688512e+42,   5.72604991e+51,   3.26627955e+39,\n",
       "         3.29575487e+42,   3.65390101e+38,   2.74464266e+34,\n",
       "         2.14691149e+36,   3.41327409e+33,   9.60875851e+35,\n",
       "         1.21451992e+30,   1.01508287e+38,   1.55200055e+33,\n",
       "         2.47867844e+30,   1.14273270e+41,   1.90333476e+44,\n",
       "         5.77988536e+35,   1.68551793e+45,   2.08069517e+36,\n",
       "         2.28642270e+46,   2.71736317e+40,   1.80833694e+32,\n",
       "         1.16861290e+52,   7.09111918e+40,   1.17578606e+24,\n",
       "         1.50349418e+38,   2.23004089e+37,   4.56012443e+43,\n",
       "         2.43221749e+47,   6.72621044e+42,   7.22847241e+40,\n",
       "         1.64572450e+25,   4.48283070e+43,   4.04077108e+36,\n",
       "         2.55334358e+27,   1.13074501e+50,   3.43025888e+28,\n",
       "         2.47769553e+36,   3.29575487e+42,   1.47303091e+32,\n",
       "         3.76206804e+32,   1.37533492e+46,   2.47762601e+35,\n",
       "         3.91848615e+30,   6.64045920e+30,   4.55981947e+23,\n",
       "         3.43713910e+48,   6.52662771e+33,   1.00349025e+35,\n",
       "         6.30529076e+27,   1.71889583e+40,   1.09711710e+43,\n",
       "         1.82231208e+29,   2.00157893e+42,   4.48283070e+43,\n",
       "         1.56633802e+39,   1.44831180e+39,   9.41597943e+43,\n",
       "         1.03026806e+33,   1.37475096e+51,   1.17960003e+36,\n",
       "         7.22847241e+40,   3.36092560e+36,   2.52668983e+30,\n",
       "         1.83535333e+34,   2.25868736e+29,   1.66807544e+48,\n",
       "         1.38767616e+35,   1.00349025e+35,   3.91931693e+33,\n",
       "         7.92768299e+44,   2.45566025e+47,   1.80761984e+38,\n",
       "         1.16532926e+35,   1.21378096e+33,   5.21335560e+39,\n",
       "         5.60146153e+34,   2.27862446e+35,   3.27048003e+45,\n",
       "         1.18050141e+34,   1.36036748e+61,   3.06641609e+27,\n",
       "         8.95028143e+33,   6.25424225e+32,   1.76870379e+37,\n",
       "         1.36036748e+61,   9.98856311e+29,   2.91038922e+26,\n",
       "         1.20043242e+32,   3.03914505e+38,   1.75066488e+26,\n",
       "         2.88882766e+46,   6.40007177e+39,   1.50250365e+27,\n",
       "         6.29102040e+29,   2.98076210e+46,   2.19652823e+43,\n",
       "         3.72615378e+32,   1.76870379e+37,   9.52330341e+46,\n",
       "         2.63862781e+45,   3.16608800e+38,   1.69993952e+31,\n",
       "         3.36596128e+45,   4.42567990e+31,   1.33200050e+34,\n",
       "         1.14273270e+41,   2.82291115e+23,   4.71126946e+46,\n",
       "         1.29289301e+45,   6.06625742e+29,   2.08744444e+48,\n",
       "         8.08124026e+44,   2.37734355e+41,   3.29575487e+42,\n",
       "         1.18037768e+47,   3.76057619e+38,   2.26459556e+46,\n",
       "         4.04671184e+44,   5.15664794e+30,   6.06625742e+29,\n",
       "         7.91268368e+41,   5.10742044e+30,   1.75181901e+37,\n",
       "         3.22750490e+39])"
      ]
     },
     "execution_count": 89,
     "metadata": {},
     "output_type": "execute_result"
    }
   ],
   "source": [
    "y_pred_train"
   ]
  },
  {
   "cell_type": "code",
   "execution_count": 90,
   "metadata": {
    "collapsed": false
   },
   "outputs": [
    {
     "ename": "TypeError",
     "evalue": "concat() got an unexpected keyword argument 'index'",
     "output_type": "error",
     "traceback": [
      "\u001b[0;31m---------------------------------------------------------------------------\u001b[0m",
      "\u001b[0;31mTypeError\u001b[0m                                 Traceback (most recent call last)",
      "\u001b[0;32m<ipython-input-90-6dae20a6621f>\u001b[0m in \u001b[0;36m<module>\u001b[0;34m()\u001b[0m\n\u001b[0;32m----> 1\u001b[0;31m \u001b[0mpred_train\u001b[0m \u001b[0;34m=\u001b[0m \u001b[0mpd\u001b[0m\u001b[0;34m.\u001b[0m\u001b[0mconcat\u001b[0m\u001b[0;34m(\u001b[0m\u001b[0my_pred_train\u001b[0m\u001b[0;34m,\u001b[0m \u001b[0mindex\u001b[0m\u001b[0;34m=\u001b[0m\u001b[0mX_train\u001b[0m\u001b[0;34m[\u001b[0m\u001b[0;34m\"ClaimNo\"\u001b[0m\u001b[0;34m]\u001b[0m\u001b[0;34m,\u001b[0m \u001b[0mcolumns\u001b[0m\u001b[0;34m=\u001b[0m\u001b[0;34m[\u001b[0m\u001b[0;34m'Claim_Amt'\u001b[0m\u001b[0;34m]\u001b[0m\u001b[0;34m)\u001b[0m\u001b[0;34m\u001b[0m\u001b[0m\n\u001b[0m",
      "\u001b[0;31mTypeError\u001b[0m: concat() got an unexpected keyword argument 'index'"
     ]
    }
   ],
   "source": [
    "pred_train = pd.concat(y_pred_train, index=X_train[\"ClaimNo\"], columns=['Claim_Amt'])"
   ]
  },
  {
   "cell_type": "code",
   "execution_count": null,
   "metadata": {
    "collapsed": true
   },
   "outputs": [],
   "source": [
    "### figure out how to side by side compare pred_train to y_train"
   ]
  },
  {
   "cell_type": "code",
   "execution_count": null,
   "metadata": {
    "collapsed": false
   },
   "outputs": [],
   "source": [
    "df_target = pd.concat(y_pred_train['Claim_Amt'], df['ClaimAmt_100k'],axis=1, keys\n",
    "                      =['pred_train', 'df'])\n",
    "df_target.head()"
   ]
  },
  {
   "cell_type": "code",
   "execution_count": null,
   "metadata": {
    "collapsed": false
   },
   "outputs": [],
   "source": [
    "print y_pred_train.sort()\n",
    "print df.ix[:,['ClaimNo','ClaimAmt_100k']]\n",
    "#print X_train"
   ]
  },
  {
   "cell_type": "code",
   "execution_count": null,
   "metadata": {
    "collapsed": true
   },
   "outputs": [],
   "source": []
  },
  {
   "cell_type": "code",
   "execution_count": null,
   "metadata": {
    "collapsed": false
   },
   "outputs": [],
   "source": [
    "# Understand the Feature Importance\n",
    "coef = pd.Series(mod_lasso.coef_, index=X_train.ix[:,'Year':].columns)"
   ]
  },
  {
   "cell_type": "code",
   "execution_count": null,
   "metadata": {
    "collapsed": false
   },
   "outputs": [],
   "source": [
    "print(\"Lasso picked \" + str(sum(coef != 0)) + \" variables and eliminated the other \" +  str(sum(coef == 0)) + \" variables\")"
   ]
  },
  {
   "cell_type": "code",
   "execution_count": null,
   "metadata": {
    "collapsed": true
   },
   "outputs": [],
   "source": [
    "imp_coef = pd.concat([coef.sort_values().head(10),\n",
    "                     coef.sort_values().tail(10)])"
   ]
  },
  {
   "cell_type": "code",
   "execution_count": null,
   "metadata": {
    "collapsed": false
   },
   "outputs": [],
   "source": [
    "matplotlib.rcParams['figure.figsize'] = (8.0, 10.0)\n",
    "imp_coef.plot(kind = \"barh\")\n",
    "plt.title(\"Coefficients in the Lasso Model\")"
   ]
  },
  {
   "cell_type": "code",
   "execution_count": null,
   "metadata": {
    "collapsed": false
   },
   "outputs": [],
   "source": [
    "# Get the residuals\n",
    "matplotlib.rcParams['figure.figsize'] = (6.0, 6.0)\n",
    "\n",
    "preds = pd.DataFrame({\"preds\":mod_lasso.predict(X_train.ix[:,'Year':]), \"true\":y_train})\n",
    "preds[\"residuals\"] = preds[\"true\"] - preds[\"preds\"]\n",
    "preds.plot(x = \"preds\", y = \"residuals\",kind = \"scatter\")"
   ]
  }
 ],
 "metadata": {
  "anaconda-cloud": {},
  "kernelspec": {
   "display_name": "Python 2",
   "language": "python",
   "name": "python2"
  },
  "language_info": {
   "codemirror_mode": {
    "name": "ipython",
    "version": 2
   },
   "file_extension": ".py",
   "mimetype": "text/x-python",
   "name": "python",
   "nbconvert_exporter": "python",
   "pygments_lexer": "ipython2",
   "version": "2.7.12"
  }
 },
 "nbformat": 4,
 "nbformat_minor": 0
}
